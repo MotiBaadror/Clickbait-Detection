{
 "cells": [
  {
   "cell_type": "code",
   "execution_count": 237,
   "metadata": {},
   "outputs": [
    {
     "data": {
      "text/html": [
       "<style>.container {width:100%;}</style>"
      ],
      "text/plain": [
       "<IPython.core.display.HTML object>"
      ]
     },
     "metadata": {},
     "output_type": "display_data"
    },
    {
     "name": "stdout",
     "output_type": "stream",
     "text": [
      " Imported Modules:\n",
      "import pandas as pd\n",
      "import numpy as np\n",
      "import matplotlib.pyplot as plt\n",
      "pd.set_option('display.Max_Rows',None,'display.Max_columns',None)\n",
      "'display.max_colwidth':6000\n",
      "from IPython.core.display import display, HTML\n",
      "display(HTML('<style>.container {width:100%;}</style>'))\n"
     ]
    }
   ],
   "source": [
    "%run \"./myimports\""
   ]
  },
  {
   "cell_type": "code",
   "execution_count": 186,
   "metadata": {},
   "outputs": [],
   "source": [
    "import re\n",
    "import pickle\n",
    "from nltk import SnowballStemmer, word_tokenize\n",
    "from nltk.classify import NaiveBayesClassifier\n",
    "from nltk.corpus import stopwords\n",
    "from nltk.sentiment import SentimentAnalyzer\n",
    "from nltk.sentiment.util import *\n",
    "from sklearn.utils import shuffle"
   ]
  },
  {
   "cell_type": "code",
   "execution_count": 62,
   "metadata": {},
   "outputs": [
    {
     "data": {
      "text/plain": [
       "''"
      ]
     },
     "execution_count": 62,
     "metadata": {},
     "output_type": "execute_result"
    }
   ],
   "source": []
  },
  {
   "cell_type": "code",
   "execution_count": 110,
   "metadata": {},
   "outputs": [
    {
     "name": "stderr",
     "output_type": "stream",
     "text": [
      "C:\\anaconda\\lib\\site-packages\\ipykernel_launcher.py:1: ParserWarning: Falling back to the 'python' engine because the 'c' engine does not support regex separators (separators > 1 char and different from '\\s+' are interpreted as regex); you can avoid this warning by specifying engine='python'.\n",
      "  \"\"\"Entry point for launching an IPython kernel.\n"
     ]
    }
   ],
   "source": [
    "good_text=pd.read_csv('./dataset/train/good.txt',sep='\\t ',header=None)\n",
    "bait_text=pd.read_fwf('./dataset/train/bait.txt',sep='\\t', header=None)"
   ]
  },
  {
   "cell_type": "code",
   "execution_count": 149,
   "metadata": {},
   "outputs": [
    {
     "name": "stderr",
     "output_type": "stream",
     "text": [
      "C:\\anaconda\\lib\\site-packages\\ipykernel_launcher.py:1: ParserWarning: Falling back to the 'python' engine because the 'c' engine does not support regex separators (separators > 1 char and different from '\\s+' are interpreted as regex); you can avoid this warning by specifying engine='python'.\n",
      "  \"\"\"Entry point for launching an IPython kernel.\n"
     ]
    }
   ],
   "source": [
    "good_test_text=pd.read_csv('./dataset/test/good.txt',sep='\\t ',header=None)\n",
    "bait_test_text=pd.read_fwf('./dataset/test/bait.txt',sep='\\t', header=None)"
   ]
  },
  {
   "cell_type": "code",
   "execution_count": 150,
   "metadata": {},
   "outputs": [
    {
     "data": {
      "text/html": [
       "<div>\n",
       "<style scoped>\n",
       "    .dataframe tbody tr th:only-of-type {\n",
       "        vertical-align: middle;\n",
       "    }\n",
       "\n",
       "    .dataframe tbody tr th {\n",
       "        vertical-align: top;\n",
       "    }\n",
       "\n",
       "    .dataframe thead th {\n",
       "        text-align: right;\n",
       "    }\n",
       "</style>\n",
       "<table border=\"1\" class=\"dataframe\">\n",
       "  <thead>\n",
       "    <tr style=\"text-align: right;\">\n",
       "      <th></th>\n",
       "      <th>0</th>\n",
       "    </tr>\n",
       "  </thead>\n",
       "  <tbody>\n",
       "    <tr>\n",
       "      <th>0</th>\n",
       "      <td>Malda Municipal Corporation: TMC councillors to move no-confidence motion against own chairman</td>\n",
       "    </tr>\n",
       "    <tr>\n",
       "      <th>1</th>\n",
       "      <td>Roger Federer holds off Kei Nishikori to reach quarter-finals</td>\n",
       "    </tr>\n",
       "    <tr>\n",
       "      <th>2</th>\n",
       "      <td>The Guardian view on Trump and Israel: stick to the script | Editorial</td>\n",
       "    </tr>\n",
       "    <tr>\n",
       "      <th>3</th>\n",
       "      <td>Ryan Zinke confirmation hearing for interior secretary: the key points</td>\n",
       "    </tr>\n",
       "    <tr>\n",
       "      <th>4</th>\n",
       "      <td>Theresa May's Brexit speech: what the national newspapers say | Roy Greenslade</td>\n",
       "    </tr>\n",
       "  </tbody>\n",
       "</table>\n",
       "</div>"
      ],
      "text/plain": [
       "                                                                                                0\n",
       "0  Malda Municipal Corporation: TMC councillors to move no-confidence motion against own chairman\n",
       "1                                   Roger Federer holds off Kei Nishikori to reach quarter-finals\n",
       "2                          The Guardian view on Trump and Israel: stick to the script | Editorial\n",
       "3                          Ryan Zinke confirmation hearing for interior secretary: the key points\n",
       "4                  Theresa May's Brexit speech: what the national newspapers say | Roy Greenslade"
      ]
     },
     "execution_count": 150,
     "metadata": {},
     "output_type": "execute_result"
    }
   ],
   "source": [
    "good_test_text.head()"
   ]
  },
  {
   "cell_type": "code",
   "execution_count": 111,
   "metadata": {},
   "outputs": [
    {
     "data": {
      "text/html": [
       "<div>\n",
       "<style scoped>\n",
       "    .dataframe tbody tr th:only-of-type {\n",
       "        vertical-align: middle;\n",
       "    }\n",
       "\n",
       "    .dataframe tbody tr th {\n",
       "        vertical-align: top;\n",
       "    }\n",
       "\n",
       "    .dataframe thead th {\n",
       "        text-align: right;\n",
       "    }\n",
       "</style>\n",
       "<table border=\"1\" class=\"dataframe\">\n",
       "  <thead>\n",
       "    <tr style=\"text-align: right;\">\n",
       "      <th></th>\n",
       "      <th>0</th>\n",
       "    </tr>\n",
       "  </thead>\n",
       "  <tbody>\n",
       "    <tr>\n",
       "      <th>0</th>\n",
       "      <td>Five people injured in Manchester house explosion</td>\n",
       "    </tr>\n",
       "    <tr>\n",
       "      <th>1</th>\n",
       "      <td>Barnaby Joyce spent $18,000 on 2013 travel to New England when trying to win seat</td>\n",
       "    </tr>\n",
       "    <tr>\n",
       "      <th>2</th>\n",
       "      <td>HMRC criticised over spiralling payments to outsourcing firm</td>\n",
       "    </tr>\n",
       "    <tr>\n",
       "      <th>3</th>\n",
       "      <td>S Korea insists anti-Pyongyang propaganda  will continue unless North apologizes for attacks</td>\n",
       "    </tr>\n",
       "    <tr>\n",
       "      <th>4</th>\n",
       "      <td>A year after horrific fire, Kalbadevi set to give BJP another chance</td>\n",
       "    </tr>\n",
       "  </tbody>\n",
       "</table>\n",
       "</div>"
      ],
      "text/plain": [
       "                                                                                              0\n",
       "0                                             Five people injured in Manchester house explosion\n",
       "1             Barnaby Joyce spent $18,000 on 2013 travel to New England when trying to win seat\n",
       "2                                  HMRC criticised over spiralling payments to outsourcing firm\n",
       "3  S Korea insists anti-Pyongyang propaganda  will continue unless North apologizes for attacks\n",
       "4                          A year after horrific fire, Kalbadevi set to give BJP another chance"
      ]
     },
     "execution_count": 111,
     "metadata": {},
     "output_type": "execute_result"
    }
   ],
   "source": [
    "good_text.head()"
   ]
  },
  {
   "cell_type": "code",
   "execution_count": 151,
   "metadata": {},
   "outputs": [
    {
     "data": {
      "text/html": [
       "<div>\n",
       "<style scoped>\n",
       "    .dataframe tbody tr th:only-of-type {\n",
       "        vertical-align: middle;\n",
       "    }\n",
       "\n",
       "    .dataframe tbody tr th {\n",
       "        vertical-align: top;\n",
       "    }\n",
       "\n",
       "    .dataframe thead th {\n",
       "        text-align: right;\n",
       "    }\n",
       "</style>\n",
       "<table border=\"1\" class=\"dataframe\">\n",
       "  <thead>\n",
       "    <tr style=\"text-align: right;\">\n",
       "      <th></th>\n",
       "      <th>text</th>\n",
       "    </tr>\n",
       "  </thead>\n",
       "  <tbody>\n",
       "    <tr>\n",
       "      <th>0</th>\n",
       "      <td>Malda Municipal Corporation: TMC councillors to move no-confidence motion against own chairman</td>\n",
       "    </tr>\n",
       "    <tr>\n",
       "      <th>1</th>\n",
       "      <td>Roger Federer holds off Kei Nishikori to reach quarter-finals</td>\n",
       "    </tr>\n",
       "  </tbody>\n",
       "</table>\n",
       "</div>"
      ],
      "text/plain": [
       "                                                                                             text\n",
       "0  Malda Municipal Corporation: TMC councillors to move no-confidence motion against own chairman\n",
       "1                                   Roger Federer holds off Kei Nishikori to reach quarter-finals"
      ]
     },
     "execution_count": 151,
     "metadata": {},
     "output_type": "execute_result"
    }
   ],
   "source": [
    "good_test_text.columns=['text']\n",
    "good_test_text.head(2)"
   ]
  },
  {
   "cell_type": "code",
   "execution_count": 112,
   "metadata": {},
   "outputs": [
    {
     "data": {
      "text/html": [
       "<div>\n",
       "<style scoped>\n",
       "    .dataframe tbody tr th:only-of-type {\n",
       "        vertical-align: middle;\n",
       "    }\n",
       "\n",
       "    .dataframe tbody tr th {\n",
       "        vertical-align: top;\n",
       "    }\n",
       "\n",
       "    .dataframe thead th {\n",
       "        text-align: right;\n",
       "    }\n",
       "</style>\n",
       "<table border=\"1\" class=\"dataframe\">\n",
       "  <thead>\n",
       "    <tr style=\"text-align: right;\">\n",
       "      <th></th>\n",
       "      <th>text</th>\n",
       "    </tr>\n",
       "  </thead>\n",
       "  <tbody>\n",
       "    <tr>\n",
       "      <th>0</th>\n",
       "      <td>Five people injured in Manchester house explosion</td>\n",
       "    </tr>\n",
       "    <tr>\n",
       "      <th>1</th>\n",
       "      <td>Barnaby Joyce spent $18,000 on 2013 travel to New England when trying to win seat</td>\n",
       "    </tr>\n",
       "  </tbody>\n",
       "</table>\n",
       "</div>"
      ],
      "text/plain": [
       "                                                                                text\n",
       "0                                  Five people injured in Manchester house explosion\n",
       "1  Barnaby Joyce spent $18,000 on 2013 travel to New England when trying to win seat"
      ]
     },
     "execution_count": 112,
     "metadata": {},
     "output_type": "execute_result"
    }
   ],
   "source": [
    "good_text.columns=['text']\n",
    "good_text.head(2)"
   ]
  },
  {
   "cell_type": "code",
   "execution_count": 113,
   "metadata": {},
   "outputs": [
    {
     "data": {
      "text/plain": [
       "(4560, 1)"
      ]
     },
     "execution_count": 113,
     "metadata": {},
     "output_type": "execute_result"
    }
   ],
   "source": [
    "good_text.shape"
   ]
  },
  {
   "cell_type": "code",
   "execution_count": 153,
   "metadata": {},
   "outputs": [
    {
     "data": {
      "text/html": [
       "<div>\n",
       "<style scoped>\n",
       "    .dataframe tbody tr th:only-of-type {\n",
       "        vertical-align: middle;\n",
       "    }\n",
       "\n",
       "    .dataframe tbody tr th {\n",
       "        vertical-align: top;\n",
       "    }\n",
       "\n",
       "    .dataframe thead th {\n",
       "        text-align: right;\n",
       "    }\n",
       "</style>\n",
       "<table border=\"1\" class=\"dataframe\">\n",
       "  <thead>\n",
       "    <tr style=\"text-align: right;\">\n",
       "      <th></th>\n",
       "      <th>0</th>\n",
       "      <th>1</th>\n",
       "    </tr>\n",
       "  </thead>\n",
       "  <tbody>\n",
       "    <tr>\n",
       "      <th>0</th>\n",
       "      <td>12 Stories From Around The World That Show What Really Happened In 2016</td>\n",
       "      <td>NaN</td>\n",
       "    </tr>\n",
       "    <tr>\n",
       "      <th>1</th>\n",
       "      <td>Scandal: Senator Harry Reid Texted Illicit Photographs Of His Tail To A Female Intern</td>\n",
       "      <td>NaN</td>\n",
       "    </tr>\n",
       "    <tr>\n",
       "      <th>2</th>\n",
       "      <td>These Were Just Normal GIFs...And Then Michael Bay Got Involved. I Can't Stop Laughing.</td>\n",
       "      <td>NaN</td>\n",
       "    </tr>\n",
       "    <tr>\n",
       "      <th>3</th>\n",
       "      <td>These 14 Places Make Good Enough Hot Chocolate That You'd Be Willing To Travel For It</td>\n",
       "      <td>NaN</td>\n",
       "    </tr>\n",
       "    <tr>\n",
       "      <th>4</th>\n",
       "      <td>These Celebrity Impressions Are The Best Part About Christmas</td>\n",
       "      <td>NaN</td>\n",
       "    </tr>\n",
       "  </tbody>\n",
       "</table>\n",
       "</div>"
      ],
      "text/plain": [
       "                                                                                         0  \\\n",
       "0                  12 Stories From Around The World That Show What Really Happened In 2016   \n",
       "1    Scandal: Senator Harry Reid Texted Illicit Photographs Of His Tail To A Female Intern   \n",
       "2  These Were Just Normal GIFs...And Then Michael Bay Got Involved. I Can't Stop Laughing.   \n",
       "3    These 14 Places Make Good Enough Hot Chocolate That You'd Be Willing To Travel For It   \n",
       "4                            These Celebrity Impressions Are The Best Part About Christmas   \n",
       "\n",
       "     1  \n",
       "0  NaN  \n",
       "1  NaN  \n",
       "2  NaN  \n",
       "3  NaN  \n",
       "4  NaN  "
      ]
     },
     "execution_count": 153,
     "metadata": {},
     "output_type": "execute_result"
    }
   ],
   "source": [
    "bait_test_text.head()"
   ]
  },
  {
   "cell_type": "code",
   "execution_count": 114,
   "metadata": {},
   "outputs": [
    {
     "data": {
      "text/plain": [
       "Int64Index([0, 1, 2, 3, 4, 5, 6, 7, 8, 9, 10], dtype='int64')"
      ]
     },
     "execution_count": 114,
     "metadata": {},
     "output_type": "execute_result"
    }
   ],
   "source": [
    "bait_text.columns\n",
    "# =['bait_text']\n",
    "# bait_text=pd.DataFrame(bait_text[0], columns='bait_text')\n",
    "# bait_text.head()"
   ]
  },
  {
   "cell_type": "code",
   "execution_count": 154,
   "metadata": {},
   "outputs": [
    {
     "data": {
      "text/html": [
       "<div>\n",
       "<style scoped>\n",
       "    .dataframe tbody tr th:only-of-type {\n",
       "        vertical-align: middle;\n",
       "    }\n",
       "\n",
       "    .dataframe tbody tr th {\n",
       "        vertical-align: top;\n",
       "    }\n",
       "\n",
       "    .dataframe thead th {\n",
       "        text-align: right;\n",
       "    }\n",
       "</style>\n",
       "<table border=\"1\" class=\"dataframe\">\n",
       "  <thead>\n",
       "    <tr style=\"text-align: right;\">\n",
       "      <th></th>\n",
       "      <th>0</th>\n",
       "    </tr>\n",
       "  </thead>\n",
       "  <tbody>\n",
       "    <tr>\n",
       "      <th>0</th>\n",
       "      <td>12 Stories From Around The World That Show What Really Happened In 2016</td>\n",
       "    </tr>\n",
       "    <tr>\n",
       "      <th>1</th>\n",
       "      <td>Scandal: Senator Harry Reid Texted Illicit Photographs Of His Tail To A Female Intern</td>\n",
       "    </tr>\n",
       "  </tbody>\n",
       "</table>\n",
       "</div>"
      ],
      "text/plain": [
       "                                                                                       0\n",
       "0                12 Stories From Around The World That Show What Really Happened In 2016\n",
       "1  Scandal: Senator Harry Reid Texted Illicit Photographs Of His Tail To A Female Intern"
      ]
     },
     "execution_count": 154,
     "metadata": {},
     "output_type": "execute_result"
    }
   ],
   "source": [
    "bait_test_text.drop(columns=[1],axis=1,inplace=True)\n",
    "bait_test_text.head(2)"
   ]
  },
  {
   "cell_type": "code",
   "execution_count": 115,
   "metadata": {
    "scrolled": true
   },
   "outputs": [
    {
     "data": {
      "text/html": [
       "<div>\n",
       "<style scoped>\n",
       "    .dataframe tbody tr th:only-of-type {\n",
       "        vertical-align: middle;\n",
       "    }\n",
       "\n",
       "    .dataframe tbody tr th {\n",
       "        vertical-align: top;\n",
       "    }\n",
       "\n",
       "    .dataframe thead th {\n",
       "        text-align: right;\n",
       "    }\n",
       "</style>\n",
       "<table border=\"1\" class=\"dataframe\">\n",
       "  <thead>\n",
       "    <tr style=\"text-align: right;\">\n",
       "      <th></th>\n",
       "      <th>0</th>\n",
       "    </tr>\n",
       "  </thead>\n",
       "  <tbody>\n",
       "    <tr>\n",
       "      <th>0</th>\n",
       "      <td>What's Going On Around The World Today</td>\n",
       "    </tr>\n",
       "    <tr>\n",
       "      <th>1</th>\n",
       "      <td>This Might Be The Most Beautiful Video Shot With A GoPro...But It's Also Scary</td>\n",
       "    </tr>\n",
       "    <tr>\n",
       "      <th>2</th>\n",
       "      <td>19 Confessions Of Everyone Who Hates New Year's</td>\n",
       "    </tr>\n",
       "    <tr>\n",
       "      <th>3</th>\n",
       "      <td>7 Daredevil Dogs Who Are Unaware They Can Die</td>\n",
       "    </tr>\n",
       "    <tr>\n",
       "      <th>4</th>\n",
       "      <td>The 17 Emotions That Leonardo DiCaprio Felt When He Lost At The Oscars</td>\n",
       "    </tr>\n",
       "  </tbody>\n",
       "</table>\n",
       "</div>"
      ],
      "text/plain": [
       "                                                                                0\n",
       "0                                          What's Going On Around The World Today\n",
       "1  This Might Be The Most Beautiful Video Shot With A GoPro...But It's Also Scary\n",
       "2                                 19 Confessions Of Everyone Who Hates New Year's\n",
       "3                                   7 Daredevil Dogs Who Are Unaware They Can Die\n",
       "4          The 17 Emotions That Leonardo DiCaprio Felt When He Lost At The Oscars"
      ]
     },
     "execution_count": 115,
     "metadata": {},
     "output_type": "execute_result"
    }
   ],
   "source": [
    "bait_text.drop(columns=[1, 2, 3, 4, 5, 6, 7, 8, 9, 10],axis=1, inplace=True);\n",
    "bait_text.head()"
   ]
  },
  {
   "cell_type": "code",
   "execution_count": 155,
   "metadata": {},
   "outputs": [
    {
     "data": {
      "text/html": [
       "<div>\n",
       "<style scoped>\n",
       "    .dataframe tbody tr th:only-of-type {\n",
       "        vertical-align: middle;\n",
       "    }\n",
       "\n",
       "    .dataframe tbody tr th {\n",
       "        vertical-align: top;\n",
       "    }\n",
       "\n",
       "    .dataframe thead th {\n",
       "        text-align: right;\n",
       "    }\n",
       "</style>\n",
       "<table border=\"1\" class=\"dataframe\">\n",
       "  <thead>\n",
       "    <tr style=\"text-align: right;\">\n",
       "      <th></th>\n",
       "      <th>text</th>\n",
       "    </tr>\n",
       "  </thead>\n",
       "  <tbody>\n",
       "    <tr>\n",
       "      <th>0</th>\n",
       "      <td>12 Stories From Around The World That Show What Really Happened In 2016</td>\n",
       "    </tr>\n",
       "    <tr>\n",
       "      <th>1</th>\n",
       "      <td>Scandal: Senator Harry Reid Texted Illicit Photographs Of His Tail To A Female Intern</td>\n",
       "    </tr>\n",
       "  </tbody>\n",
       "</table>\n",
       "</div>"
      ],
      "text/plain": [
       "                                                                                    text\n",
       "0                12 Stories From Around The World That Show What Really Happened In 2016\n",
       "1  Scandal: Senator Harry Reid Texted Illicit Photographs Of His Tail To A Female Intern"
      ]
     },
     "execution_count": 155,
     "metadata": {},
     "output_type": "execute_result"
    }
   ],
   "source": [
    "bait_test_text.columns=['text']\n",
    "bait_test_text.head(2)"
   ]
  },
  {
   "cell_type": "code",
   "execution_count": 116,
   "metadata": {},
   "outputs": [],
   "source": [
    "bait_text.columns=['text']"
   ]
  },
  {
   "cell_type": "code",
   "execution_count": 117,
   "metadata": {},
   "outputs": [
    {
     "data": {
      "text/html": [
       "<div>\n",
       "<style scoped>\n",
       "    .dataframe tbody tr th:only-of-type {\n",
       "        vertical-align: middle;\n",
       "    }\n",
       "\n",
       "    .dataframe tbody tr th {\n",
       "        vertical-align: top;\n",
       "    }\n",
       "\n",
       "    .dataframe thead th {\n",
       "        text-align: right;\n",
       "    }\n",
       "</style>\n",
       "<table border=\"1\" class=\"dataframe\">\n",
       "  <thead>\n",
       "    <tr style=\"text-align: right;\">\n",
       "      <th></th>\n",
       "      <th>text</th>\n",
       "    </tr>\n",
       "  </thead>\n",
       "  <tbody>\n",
       "    <tr>\n",
       "      <th>0</th>\n",
       "      <td>What's Going On Around The World Today</td>\n",
       "    </tr>\n",
       "    <tr>\n",
       "      <th>1</th>\n",
       "      <td>This Might Be The Most Beautiful Video Shot With A GoPro...But It's Also Scary</td>\n",
       "    </tr>\n",
       "    <tr>\n",
       "      <th>2</th>\n",
       "      <td>19 Confessions Of Everyone Who Hates New Year's</td>\n",
       "    </tr>\n",
       "    <tr>\n",
       "      <th>3</th>\n",
       "      <td>7 Daredevil Dogs Who Are Unaware They Can Die</td>\n",
       "    </tr>\n",
       "    <tr>\n",
       "      <th>4</th>\n",
       "      <td>The 17 Emotions That Leonardo DiCaprio Felt When He Lost At The Oscars</td>\n",
       "    </tr>\n",
       "  </tbody>\n",
       "</table>\n",
       "</div>"
      ],
      "text/plain": [
       "                                                                             text\n",
       "0                                          What's Going On Around The World Today\n",
       "1  This Might Be The Most Beautiful Video Shot With A GoPro...But It's Also Scary\n",
       "2                                 19 Confessions Of Everyone Who Hates New Year's\n",
       "3                                   7 Daredevil Dogs Who Are Unaware They Can Die\n",
       "4          The 17 Emotions That Leonardo DiCaprio Felt When He Lost At The Oscars"
      ]
     },
     "execution_count": 117,
     "metadata": {},
     "output_type": "execute_result"
    }
   ],
   "source": [
    "bait_text.head()"
   ]
  },
  {
   "cell_type": "code",
   "execution_count": 118,
   "metadata": {},
   "outputs": [
    {
     "data": {
      "text/plain": [
       "(4228, 1)"
      ]
     },
     "execution_count": 118,
     "metadata": {},
     "output_type": "execute_result"
    }
   ],
   "source": [
    "bait_text.shape"
   ]
  },
  {
   "cell_type": "code",
   "execution_count": 201,
   "metadata": {},
   "outputs": [],
   "source": [
    "from sklearn import model_selection, preprocessing, linear_model, naive_bayes, metrics, svm\n",
    "from sklearn.feature_extraction.text import TfidfVectorizer, CountVectorizer\n",
    "from sklearn import decomposition, ensemble\n",
    "\n",
    "import pandas, xgboost, numpy, textblob, string\n",
    "from keras.preprocessing import text, sequence\n",
    "from keras import layers, models, optimizers"
   ]
  },
  {
   "cell_type": "code",
   "execution_count": 105,
   "metadata": {},
   "outputs": [],
   "source": [
    "from tqdm import tqdm_notebook\n",
    "import torch\n",
    "import fastai\n",
    "from fastai.text import *"
   ]
  },
  {
   "cell_type": "code",
   "execution_count": 156,
   "metadata": {},
   "outputs": [],
   "source": [
    "bait_test_text['label']='clickbait'"
   ]
  },
  {
   "cell_type": "code",
   "execution_count": 158,
   "metadata": {},
   "outputs": [
    {
     "data": {
      "text/html": [
       "<div>\n",
       "<style scoped>\n",
       "    .dataframe tbody tr th:only-of-type {\n",
       "        vertical-align: middle;\n",
       "    }\n",
       "\n",
       "    .dataframe tbody tr th {\n",
       "        vertical-align: top;\n",
       "    }\n",
       "\n",
       "    .dataframe thead th {\n",
       "        text-align: right;\n",
       "    }\n",
       "</style>\n",
       "<table border=\"1\" class=\"dataframe\">\n",
       "  <thead>\n",
       "    <tr style=\"text-align: right;\">\n",
       "      <th></th>\n",
       "      <th>text</th>\n",
       "      <th>label</th>\n",
       "    </tr>\n",
       "  </thead>\n",
       "  <tbody>\n",
       "    <tr>\n",
       "      <th>0</th>\n",
       "      <td>12 Stories From Around The World That Show What Really Happened In 2016</td>\n",
       "      <td>clickbait</td>\n",
       "    </tr>\n",
       "    <tr>\n",
       "      <th>1</th>\n",
       "      <td>Scandal: Senator Harry Reid Texted Illicit Photographs Of His Tail To A Female Intern</td>\n",
       "      <td>clickbait</td>\n",
       "    </tr>\n",
       "  </tbody>\n",
       "</table>\n",
       "</div>"
      ],
      "text/plain": [
       "                                                                                    text  \\\n",
       "0                12 Stories From Around The World That Show What Really Happened In 2016   \n",
       "1  Scandal: Senator Harry Reid Texted Illicit Photographs Of His Tail To A Female Intern   \n",
       "\n",
       "       label  \n",
       "0  clickbait  \n",
       "1  clickbait  "
      ]
     },
     "execution_count": 158,
     "metadata": {},
     "output_type": "execute_result"
    }
   ],
   "source": [
    "bait_test_text.head(2)"
   ]
  },
  {
   "cell_type": "code",
   "execution_count": 120,
   "metadata": {},
   "outputs": [],
   "source": [
    "bait_text['label']='clickbait'"
   ]
  },
  {
   "cell_type": "code",
   "execution_count": 121,
   "metadata": {},
   "outputs": [
    {
     "data": {
      "text/html": [
       "<div>\n",
       "<style scoped>\n",
       "    .dataframe tbody tr th:only-of-type {\n",
       "        vertical-align: middle;\n",
       "    }\n",
       "\n",
       "    .dataframe tbody tr th {\n",
       "        vertical-align: top;\n",
       "    }\n",
       "\n",
       "    .dataframe thead th {\n",
       "        text-align: right;\n",
       "    }\n",
       "</style>\n",
       "<table border=\"1\" class=\"dataframe\">\n",
       "  <thead>\n",
       "    <tr style=\"text-align: right;\">\n",
       "      <th></th>\n",
       "      <th>text</th>\n",
       "      <th>label</th>\n",
       "    </tr>\n",
       "  </thead>\n",
       "  <tbody>\n",
       "    <tr>\n",
       "      <th>0</th>\n",
       "      <td>What's Going On Around The World Today</td>\n",
       "      <td>clickbait</td>\n",
       "    </tr>\n",
       "    <tr>\n",
       "      <th>1</th>\n",
       "      <td>This Might Be The Most Beautiful Video Shot With A GoPro...But It's Also Scary</td>\n",
       "      <td>clickbait</td>\n",
       "    </tr>\n",
       "    <tr>\n",
       "      <th>2</th>\n",
       "      <td>19 Confessions Of Everyone Who Hates New Year's</td>\n",
       "      <td>clickbait</td>\n",
       "    </tr>\n",
       "    <tr>\n",
       "      <th>3</th>\n",
       "      <td>7 Daredevil Dogs Who Are Unaware They Can Die</td>\n",
       "      <td>clickbait</td>\n",
       "    </tr>\n",
       "    <tr>\n",
       "      <th>4</th>\n",
       "      <td>The 17 Emotions That Leonardo DiCaprio Felt When He Lost At The Oscars</td>\n",
       "      <td>clickbait</td>\n",
       "    </tr>\n",
       "  </tbody>\n",
       "</table>\n",
       "</div>"
      ],
      "text/plain": [
       "                                                                             text  \\\n",
       "0                                          What's Going On Around The World Today   \n",
       "1  This Might Be The Most Beautiful Video Shot With A GoPro...But It's Also Scary   \n",
       "2                                 19 Confessions Of Everyone Who Hates New Year's   \n",
       "3                                   7 Daredevil Dogs Who Are Unaware They Can Die   \n",
       "4          The 17 Emotions That Leonardo DiCaprio Felt When He Lost At The Oscars   \n",
       "\n",
       "       label  \n",
       "0  clickbait  \n",
       "1  clickbait  \n",
       "2  clickbait  \n",
       "3  clickbait  \n",
       "4  clickbait  "
      ]
     },
     "execution_count": 121,
     "metadata": {},
     "output_type": "execute_result"
    }
   ],
   "source": [
    "bait_text.head()"
   ]
  },
  {
   "cell_type": "code",
   "execution_count": 159,
   "metadata": {},
   "outputs": [
    {
     "data": {
      "text/html": [
       "<div>\n",
       "<style scoped>\n",
       "    .dataframe tbody tr th:only-of-type {\n",
       "        vertical-align: middle;\n",
       "    }\n",
       "\n",
       "    .dataframe tbody tr th {\n",
       "        vertical-align: top;\n",
       "    }\n",
       "\n",
       "    .dataframe thead th {\n",
       "        text-align: right;\n",
       "    }\n",
       "</style>\n",
       "<table border=\"1\" class=\"dataframe\">\n",
       "  <thead>\n",
       "    <tr style=\"text-align: right;\">\n",
       "      <th></th>\n",
       "      <th>text</th>\n",
       "      <th>label</th>\n",
       "    </tr>\n",
       "  </thead>\n",
       "  <tbody>\n",
       "    <tr>\n",
       "      <th>0</th>\n",
       "      <td>Malda Municipal Corporation: TMC councillors to move no-confidence motion against own chairman</td>\n",
       "      <td>news</td>\n",
       "    </tr>\n",
       "    <tr>\n",
       "      <th>1</th>\n",
       "      <td>Roger Federer holds off Kei Nishikori to reach quarter-finals</td>\n",
       "      <td>news</td>\n",
       "    </tr>\n",
       "  </tbody>\n",
       "</table>\n",
       "</div>"
      ],
      "text/plain": [
       "                                                                                             text  \\\n",
       "0  Malda Municipal Corporation: TMC councillors to move no-confidence motion against own chairman   \n",
       "1                                   Roger Federer holds off Kei Nishikori to reach quarter-finals   \n",
       "\n",
       "  label  \n",
       "0  news  \n",
       "1  news  "
      ]
     },
     "execution_count": 159,
     "metadata": {},
     "output_type": "execute_result"
    }
   ],
   "source": [
    "good_test_text['label']='news'\n",
    "good_test_text.head(2)"
   ]
  },
  {
   "cell_type": "code",
   "execution_count": null,
   "metadata": {},
   "outputs": [],
   "source": []
  },
  {
   "cell_type": "code",
   "execution_count": 122,
   "metadata": {},
   "outputs": [],
   "source": [
    "good_text['label']='news'"
   ]
  },
  {
   "cell_type": "code",
   "execution_count": 123,
   "metadata": {},
   "outputs": [
    {
     "data": {
      "text/html": [
       "<div>\n",
       "<style scoped>\n",
       "    .dataframe tbody tr th:only-of-type {\n",
       "        vertical-align: middle;\n",
       "    }\n",
       "\n",
       "    .dataframe tbody tr th {\n",
       "        vertical-align: top;\n",
       "    }\n",
       "\n",
       "    .dataframe thead th {\n",
       "        text-align: right;\n",
       "    }\n",
       "</style>\n",
       "<table border=\"1\" class=\"dataframe\">\n",
       "  <thead>\n",
       "    <tr style=\"text-align: right;\">\n",
       "      <th></th>\n",
       "      <th>text</th>\n",
       "      <th>label</th>\n",
       "    </tr>\n",
       "  </thead>\n",
       "  <tbody>\n",
       "    <tr>\n",
       "      <th>0</th>\n",
       "      <td>Five people injured in Manchester house explosion</td>\n",
       "      <td>news</td>\n",
       "    </tr>\n",
       "    <tr>\n",
       "      <th>1</th>\n",
       "      <td>Barnaby Joyce spent $18,000 on 2013 travel to New England when trying to win seat</td>\n",
       "      <td>news</td>\n",
       "    </tr>\n",
       "    <tr>\n",
       "      <th>2</th>\n",
       "      <td>HMRC criticised over spiralling payments to outsourcing firm</td>\n",
       "      <td>news</td>\n",
       "    </tr>\n",
       "    <tr>\n",
       "      <th>3</th>\n",
       "      <td>S Korea insists anti-Pyongyang propaganda  will continue unless North apologizes for attacks</td>\n",
       "      <td>news</td>\n",
       "    </tr>\n",
       "    <tr>\n",
       "      <th>4</th>\n",
       "      <td>A year after horrific fire, Kalbadevi set to give BJP another chance</td>\n",
       "      <td>news</td>\n",
       "    </tr>\n",
       "  </tbody>\n",
       "</table>\n",
       "</div>"
      ],
      "text/plain": [
       "                                                                                           text  \\\n",
       "0                                             Five people injured in Manchester house explosion   \n",
       "1             Barnaby Joyce spent $18,000 on 2013 travel to New England when trying to win seat   \n",
       "2                                  HMRC criticised over spiralling payments to outsourcing firm   \n",
       "3  S Korea insists anti-Pyongyang propaganda  will continue unless North apologizes for attacks   \n",
       "4                          A year after horrific fire, Kalbadevi set to give BJP another chance   \n",
       "\n",
       "  label  \n",
       "0  news  \n",
       "1  news  \n",
       "2  news  \n",
       "3  news  \n",
       "4  news  "
      ]
     },
     "execution_count": 123,
     "metadata": {},
     "output_type": "execute_result"
    }
   ],
   "source": [
    "good_text.head()"
   ]
  },
  {
   "cell_type": "code",
   "execution_count": 189,
   "metadata": {},
   "outputs": [],
   "source": [
    "shuffle(pd.concat([good_test_text['text'], bait_test_text['text']])).to_csv('test.csv', index=None, header=True)"
   ]
  },
  {
   "cell_type": "code",
   "execution_count": 190,
   "metadata": {},
   "outputs": [
    {
     "data": {
      "text/html": [
       "<div>\n",
       "<style scoped>\n",
       "    .dataframe tbody tr th:only-of-type {\n",
       "        vertical-align: middle;\n",
       "    }\n",
       "\n",
       "    .dataframe tbody tr th {\n",
       "        vertical-align: top;\n",
       "    }\n",
       "\n",
       "    .dataframe thead th {\n",
       "        text-align: right;\n",
       "    }\n",
       "</style>\n",
       "<table border=\"1\" class=\"dataframe\">\n",
       "  <thead>\n",
       "    <tr style=\"text-align: right;\">\n",
       "      <th></th>\n",
       "      <th>text</th>\n",
       "    </tr>\n",
       "  </thead>\n",
       "  <tbody>\n",
       "    <tr>\n",
       "      <th>0</th>\n",
       "      <td>26 Long-Haired Hotties Who Will Hypnotize You With Their Luscious Locks</td>\n",
       "    </tr>\n",
       "    <tr>\n",
       "      <th>1</th>\n",
       "      <td>25 Amazing Hiking Spots You Have To Check Out</td>\n",
       "    </tr>\n",
       "    <tr>\n",
       "      <th>2</th>\n",
       "      <td>US: One dead, multiple injured in San Antonio shopping mall shooting</td>\n",
       "    </tr>\n",
       "    <tr>\n",
       "      <th>3</th>\n",
       "      <td>8 Fun In The Sun Activities, Unless, God Forbid, You Didnt Pack The Sunscreen</td>\n",
       "    </tr>\n",
       "    <tr>\n",
       "      <th>4</th>\n",
       "      <td>England opener Alex Hales to return home with hand injury</td>\n",
       "    </tr>\n",
       "  </tbody>\n",
       "</table>\n",
       "</div>"
      ],
      "text/plain": [
       "                                                                            text\n",
       "0        26 Long-Haired Hotties Who Will Hypnotize You With Their Luscious Locks\n",
       "1                                  25 Amazing Hiking Spots You Have To Check Out\n",
       "2           US: One dead, multiple injured in San Antonio shopping mall shooting\n",
       "3  8 Fun In The Sun Activities, Unless, God Forbid, You Didnt Pack The Sunscreen\n",
       "4                      England opener Alex Hales to return home with hand injury"
      ]
     },
     "execution_count": 190,
     "metadata": {},
     "output_type": "execute_result"
    }
   ],
   "source": [
    "# shuffle(pd.concat([good_test_text['text'], bait_test_text['text']])).to_csv('test.csv', index=None, header=True)\n",
    "test_data=pd.read_csv('test.csv')\n",
    "test_data.head()"
   ]
  },
  {
   "cell_type": "code",
   "execution_count": 191,
   "metadata": {},
   "outputs": [],
   "source": [
    "# test_data=shuffle(test_data)\n",
    "# test_data.head()"
   ]
  },
  {
   "cell_type": "code",
   "execution_count": 192,
   "metadata": {},
   "outputs": [],
   "source": [
    "shuffle(pd.concat([good_test_text, bait_test_text])).to_csv(\n",
    "    'test_with_label.csv', index=None, header=True)"
   ]
  },
  {
   "cell_type": "code",
   "execution_count": 193,
   "metadata": {},
   "outputs": [],
   "source": [
    "shuffle(pd.concat([good_text['text'], bait_text['text']])).to_csv(\n",
    "    'unlabeled_news.csv', index=None, header=True)"
   ]
  },
  {
   "cell_type": "code",
   "execution_count": 194,
   "metadata": {},
   "outputs": [
    {
     "data": {
      "text/html": [
       "<div>\n",
       "<style scoped>\n",
       "    .dataframe tbody tr th:only-of-type {\n",
       "        vertical-align: middle;\n",
       "    }\n",
       "\n",
       "    .dataframe tbody tr th {\n",
       "        vertical-align: top;\n",
       "    }\n",
       "\n",
       "    .dataframe thead th {\n",
       "        text-align: right;\n",
       "    }\n",
       "</style>\n",
       "<table border=\"1\" class=\"dataframe\">\n",
       "  <thead>\n",
       "    <tr style=\"text-align: right;\">\n",
       "      <th></th>\n",
       "      <th>text</th>\n",
       "    </tr>\n",
       "  </thead>\n",
       "  <tbody>\n",
       "    <tr>\n",
       "      <th>0</th>\n",
       "      <td>India vs England: Teams stay back in Pune ahead of second ODI in Cuttack</td>\n",
       "    </tr>\n",
       "    <tr>\n",
       "      <th>1</th>\n",
       "      <td>These 19 Photos Might Be The Most Amazing Pics I've Ever Seen Of The Night Sky</td>\n",
       "    </tr>\n",
       "    <tr>\n",
       "      <th>2</th>\n",
       "      <td>Wednesdays best TV: Hospital, No Offence, Film 2017</td>\n",
       "    </tr>\n",
       "    <tr>\n",
       "      <th>3</th>\n",
       "      <td>Bao Bao The Panda Cub Spent The Night In A Tree After Getting Zapped By A Hot Wire</td>\n",
       "    </tr>\n",
       "    <tr>\n",
       "      <th>4</th>\n",
       "      <td>Jeremy Corbyn pledges to nationalise failing care homes amid NHS crisis - Politics live</td>\n",
       "    </tr>\n",
       "  </tbody>\n",
       "</table>\n",
       "</div>"
      ],
      "text/plain": [
       "                                                                                      text\n",
       "0                 India vs England: Teams stay back in Pune ahead of second ODI in Cuttack\n",
       "1           These 19 Photos Might Be The Most Amazing Pics I've Ever Seen Of The Night Sky\n",
       "2                                      Wednesdays best TV: Hospital, No Offence, Film 2017\n",
       "3       Bao Bao The Panda Cub Spent The Night In A Tree After Getting Zapped By A Hot Wire\n",
       "4  Jeremy Corbyn pledges to nationalise failing care homes amid NHS crisis - Politics live"
      ]
     },
     "execution_count": 194,
     "metadata": {},
     "output_type": "execute_result"
    }
   ],
   "source": [
    "unlabeled_news=pd.read_csv('unlabeled_news.csv')\n",
    "unlabeled_news.head()"
   ]
  },
  {
   "cell_type": "code",
   "execution_count": 195,
   "metadata": {},
   "outputs": [],
   "source": [
    "shuffle(pd.concat([good_text[['text', 'label']],bait_text[['text', 'label']]])).to_csv(\n",
    "    'train_all.csv', index=None, header=True)"
   ]
  },
  {
   "cell_type": "code",
   "execution_count": 196,
   "metadata": {},
   "outputs": [
    {
     "data": {
      "text/html": [
       "<div>\n",
       "<style scoped>\n",
       "    .dataframe tbody tr th:only-of-type {\n",
       "        vertical-align: middle;\n",
       "    }\n",
       "\n",
       "    .dataframe tbody tr th {\n",
       "        vertical-align: top;\n",
       "    }\n",
       "\n",
       "    .dataframe thead th {\n",
       "        text-align: right;\n",
       "    }\n",
       "</style>\n",
       "<table border=\"1\" class=\"dataframe\">\n",
       "  <thead>\n",
       "    <tr style=\"text-align: right;\">\n",
       "      <th></th>\n",
       "      <th>text</th>\n",
       "      <th>label</th>\n",
       "    </tr>\n",
       "  </thead>\n",
       "  <tbody>\n",
       "    <tr>\n",
       "      <th>0</th>\n",
       "      <td>Bangladesh collapse gives New Zealand chance at unlikely win</td>\n",
       "      <td>news</td>\n",
       "    </tr>\n",
       "    <tr>\n",
       "      <th>1</th>\n",
       "      <td>Inquiry into Big Bash TVs live tactical talk</td>\n",
       "      <td>news</td>\n",
       "    </tr>\n",
       "    <tr>\n",
       "      <th>2</th>\n",
       "      <td>People Really Think This &amp;quot;Beauty And The Beast&amp;quot; Doll Looks Like Justin Bieber</td>\n",
       "      <td>clickbait</td>\n",
       "    </tr>\n",
       "    <tr>\n",
       "      <th>3</th>\n",
       "      <td>The Bust Of Winston Churchill Is Back In The Oval Office</td>\n",
       "      <td>clickbait</td>\n",
       "    </tr>\n",
       "    <tr>\n",
       "      <th>4</th>\n",
       "      <td>24 Times Polar Bears Were The Party Animals Of The Animal Kingdom</td>\n",
       "      <td>clickbait</td>\n",
       "    </tr>\n",
       "  </tbody>\n",
       "</table>\n",
       "</div>"
      ],
      "text/plain": [
       "                                                                                      text  \\\n",
       "0                             Bangladesh collapse gives New Zealand chance at unlikely win   \n",
       "1                                             Inquiry into Big Bash TVs live tactical talk   \n",
       "2  People Really Think This &quot;Beauty And The Beast&quot; Doll Looks Like Justin Bieber   \n",
       "3                                 The Bust Of Winston Churchill Is Back In The Oval Office   \n",
       "4                        24 Times Polar Bears Were The Party Animals Of The Animal Kingdom   \n",
       "\n",
       "       label  \n",
       "0       news  \n",
       "1       news  \n",
       "2  clickbait  \n",
       "3  clickbait  \n",
       "4  clickbait  "
      ]
     },
     "execution_count": 196,
     "metadata": {},
     "output_type": "execute_result"
    }
   ],
   "source": [
    "train_all=pd.read_csv('train_all.csv')\n",
    "train_all.head()"
   ]
  },
  {
   "cell_type": "code",
   "execution_count": 197,
   "metadata": {},
   "outputs": [],
   "source": [
    "folder = '.'\n",
    "unlabeled_file = 'unlabeled_news.csv'"
   ]
  },
  {
   "cell_type": "code",
   "execution_count": 198,
   "metadata": {},
   "outputs": [],
   "source": [
    "# %%time\n",
    "data_lm = TextLMDataBunch.from_csv(folder, unlabeled_file, text_cols='text')"
   ]
  },
  {
   "cell_type": "code",
   "execution_count": 199,
   "metadata": {},
   "outputs": [],
   "source": [
    "# %%time\n",
    "learn = language_model_learner(data_lm, drop_mult=0.3, arch=AWD_LSTM)"
   ]
  },
  {
   "cell_type": "code",
   "execution_count": 200,
   "metadata": {},
   "outputs": [
    {
     "data": {
      "text/html": [],
      "text/plain": [
       "<IPython.core.display.HTML object>"
      ]
     },
     "metadata": {},
     "output_type": "display_data"
    },
    {
     "name": "stdout",
     "output_type": "stream",
     "text": [
      "LR Finder is complete, type {learner_name}.recorder.plot() to see the graph.\n"
     ]
    }
   ],
   "source": [
    "learn.lr_find(start_lr = slice(10e-7, 10e-5), end_lr=slice(0.1, 10))"
   ]
  },
  {
   "cell_type": "code",
   "execution_count": 202,
   "metadata": {},
   "outputs": [
    {
     "name": "stdout",
     "output_type": "stream",
     "text": [
      "Min numerical gradient: 2.24E-02\n",
      "Min loss divided by 10: 3.55E-02\n"
     ]
    },
    {
     "data": {
      "image/png": "[encoded data removed]",
      "text/plain": [
       "<Figure size 432x288 with 1 Axes>"
      ]
     },
     "metadata": {
      "needs_background": "light"
     },
     "output_type": "display_data"
    }
   ],
   "source": [
    "learn.recorder.plot(skip_end=10, suggestion=True)"
   ]
  },
  {
   "cell_type": "code",
   "execution_count": 203,
   "metadata": {},
   "outputs": [
    {
     "data": {
      "text/plain": [
       "0.022387211385683385"
      ]
     },
     "execution_count": 203,
     "metadata": {},
     "output_type": "execute_result"
    }
   ],
   "source": [
    "best_lm_lr = learn.recorder.min_grad_lr\n",
    "best_lm_lr"
   ]
  },
  {
   "cell_type": "code",
   "execution_count": 204,
   "metadata": {},
   "outputs": [
    {
     "data": {
      "text/html": [
       "<table border=\"1\" class=\"dataframe\">\n",
       "  <thead>\n",
       "    <tr style=\"text-align: left;\">\n",
       "      <th>epoch</th>\n",
       "      <th>train_loss</th>\n",
       "      <th>valid_loss</th>\n",
       "      <th>accuracy</th>\n",
       "      <th>time</th>\n",
       "    </tr>\n",
       "  </thead>\n",
       "  <tbody>\n",
       "    <tr>\n",
       "      <td>0</td>\n",
       "      <td>4.138159</td>\n",
       "      <td>3.498122</td>\n",
       "      <td>0.430035</td>\n",
       "      <td>05:18</td>\n",
       "    </tr>\n",
       "  </tbody>\n",
       "</table>"
      ],
      "text/plain": [
       "<IPython.core.display.HTML object>"
      ]
     },
     "metadata": {},
     "output_type": "display_data"
    }
   ],
   "source": [
    "learn.fit_one_cycle(1, best_lm_lr)"
   ]
  },
  {
   "cell_type": "code",
   "execution_count": 205,
   "metadata": {},
   "outputs": [
    {
     "data": {
      "text/html": [
       "<table border=\"1\" class=\"dataframe\">\n",
       "  <thead>\n",
       "    <tr style=\"text-align: right;\">\n",
       "      <th>text</th>\n",
       "      <th>target</th>\n",
       "      <th>pred</th>\n",
       "    </tr>\n",
       "  </thead>\n",
       "  <tbody>\n",
       "    <tr>\n",
       "      <td>xxbos 21 xxmaj things xxmaj kylie xxmaj jenner xxmaj like , xxmaj you xxmaj know , xxmaj xxunk xxmaj in</td>\n",
       "      <td>2016 xxbos xxmaj data xxunk law a xxunk stuff - up , says internet users group xxbos 21 xxmaj xxunk</td>\n",
       "      <td>xxmaj xxbos xxmaj xxunk xxmaj xxbos xxbos xxmaj xxbos xxbos xxmaj xxbos xxmaj xxmaj xxbos xxbos xxbos xxmaj xxmaj photos</td>\n",
       "    </tr>\n",
       "    <tr>\n",
       "      <td>list stars xxbos xxmaj these xxmaj paintings xxmaj were xxmaj all xxmaj done xxmaj in xxup one xxmaj brush xxmaj</td>\n",
       "      <td>stroke . xxmaj this xxmaj is xxmaj truly xxmaj mind xxmaj blowing xxbos xxmaj there 's a xxmaj fake xxmaj</td>\n",
       "      <td>xxunk xxmaj xxmaj but xxmaj is xxmaj the xxmaj beautiful xxmaj xxunk xxmaj xxmaj the 's xxmaj xxmaj xxunk xxmaj</td>\n",
       "    </tr>\n",
       "    <tr>\n",
       "      <td>in xxmaj reaction xxmaj to xxmaj her xxmaj golden xxmaj globe xxmaj xxunk xxbos xxmaj pep xxmaj guardiola blames bad</td>\n",
       "      <td>xxunk and not referee for draw with xxmaj tottenham xxbos xxmaj osama bin xxmaj laden xxunk xxmaj xxunk xxmaj gandhi</td>\n",
       "      <td>xxunk xxbos xxunk xxunk xxbos xxmaj xxbos xxmaj xxunk xxmaj xxmaj xxunk xxmaj xxmaj laden xxmaj xxbos xxunk xxmaj xxunk</td>\n",
       "    </tr>\n",
       "    <tr>\n",
       "      <td>15 xxmaj food xxmaj pics xxmaj that xxmaj may xxmaj give xxmaj you a xxmaj heart xxmaj attack xxmaj just</td>\n",
       "      <td>xxmaj from xxmaj looking xxbos xxmaj xxunk xxmaj swimming xxmaj and xxmaj xxunk xxmaj team xxmaj season xxmaj canceled xxmaj</td>\n",
       "      <td>xxmaj xxunk xxmaj the xxmaj xxmaj xxunk xxmaj xxunk xxmaj in xxmaj xxunk xxmaj xxunk xxmaj xxunk xxmaj xxunk xxmaj</td>\n",
       "    </tr>\n",
       "    <tr>\n",
       "      <td>this xxmaj guy xxmaj xxunk xxmaj his xxmaj girlfriend xxmaj the xxmaj entire \" xxmaj bee xxmaj movie \" xxmaj</td>\n",
       "      <td>script xxmaj for xxmaj christmas xxbos xxmaj la xxunk xxunk xxunk xxunk xxunk xxunk xxbos xxmaj lives xxunk apart and</td>\n",
       "      <td>xxunk xxmaj xxunk xxmaj xxunk xxbos xxmaj xxunk xxmaj xxmaj xxbos xxbos xxbos xxbos xxbos xxmaj xxunk xxmaj xxmaj from</td>\n",
       "    </tr>\n",
       "  </tbody>\n",
       "</table>"
      ],
      "text/plain": [
       "<IPython.core.display.HTML object>"
      ]
     },
     "metadata": {},
     "output_type": "display_data"
    }
   ],
   "source": [
    "learn.show_results()"
   ]
  },
  {
   "cell_type": "code",
   "execution_count": 213,
   "metadata": {},
   "outputs": [],
   "source": [
    "learn.unfreeze()"
   ]
  },
  {
   "cell_type": "code",
   "execution_count": 214,
   "metadata": {},
   "outputs": [
    {
     "data": {
      "text/html": [
       "<table border=\"1\" class=\"dataframe\">\n",
       "  <thead>\n",
       "    <tr style=\"text-align: left;\">\n",
       "      <th>epoch</th>\n",
       "      <th>train_loss</th>\n",
       "      <th>valid_loss</th>\n",
       "      <th>accuracy</th>\n",
       "      <th>time</th>\n",
       "    </tr>\n",
       "  </thead>\n",
       "  <tbody>\n",
       "    <tr>\n",
       "      <td>0</td>\n",
       "      <td>3.611075</td>\n",
       "      <td>3.242975</td>\n",
       "      <td>0.456101</td>\n",
       "      <td>11:05</td>\n",
       "    </tr>\n",
       "  </tbody>\n",
       "</table>"
      ],
      "text/plain": [
       "<IPython.core.display.HTML object>"
      ]
     },
     "metadata": {},
     "output_type": "display_data"
    },
    {
     "name": "stdout",
     "output_type": "stream",
     "text": [
      "Wall time: 11min 5s\n"
     ]
    }
   ],
   "source": [
    "%%time\n",
    "learn.fit_one_cycle(1, best_lm_lr)"
   ]
  },
  {
   "cell_type": "code",
   "execution_count": 215,
   "metadata": {},
   "outputs": [
    {
     "data": {
      "text/plain": [
       "\"A person having trouble during the summer sunday xxbos He 's Not Really Fat xxbos 9 Disturbing Facts You Are Too Incredibly Sorry xxbos while Pure Queer Bears And Hope We Question xxbos This New Month Is Just Amazing xxbos Yuvraj Singh ambernath where may do americas run to go to Australian Open but it will be of like - nice ! Wild Performance For The First Time camps xxbos 16 Old Immigrants Who Had So Many Workshop Musician on Books To Make The First Baby xxbos People Are Awesome Without Planned America xxbos What wait for hardest week live ? xxbos Why readers to become US blood watchdog xxbos Here 's What Kanye Say This Guy Fully Had The Most Amazing Route To Me 30 xxbos Colombia central plane aiims horrific file crew tells\""
      ]
     },
     "execution_count": 215,
     "metadata": {},
     "output_type": "execute_result"
    }
   ],
   "source": [
    "learn.predict('A person having trouble during the summer', n_words=200)"
   ]
  },
  {
   "cell_type": "code",
   "execution_count": 216,
   "metadata": {},
   "outputs": [],
   "source": [
    "learn.save_encoder('clickbait_news_enc')"
   ]
  },
  {
   "cell_type": "code",
   "execution_count": 218,
   "metadata": {},
   "outputs": [],
   "source": [
    "# learn.show_results()"
   ]
  },
  {
   "cell_type": "code",
   "execution_count": 221,
   "metadata": {},
   "outputs": [],
   "source": [
    "train_file, test_file = 'train_all.csv', 'test.csv'"
   ]
  },
  {
   "cell_type": "code",
   "execution_count": 222,
   "metadata": {},
   "outputs": [],
   "source": [
    "data_clas = TextClasDataBunch.from_csv(path=folder, \n",
    "                                        csv_name=train_file,\n",
    "                                        test=test_file,\n",
    "                                        vocab=data_lm.train_ds.vocab, \n",
    "                                        bs=64,\n",
    "                                        text_cols='text', \n",
    "                                        label_cols='label')"
   ]
  },
  {
   "cell_type": "code",
   "execution_count": 223,
   "metadata": {},
   "outputs": [],
   "source": [
    "data_clas.save('ulmfit_data_clas_clickbait_news')"
   ]
  },
  {
   "cell_type": "code",
   "execution_count": 224,
   "metadata": {},
   "outputs": [
    {
     "data": {
      "text/plain": [
       "RNNLearner(data=TextClasDataBunch;\n",
       "\n",
       "Train: LabelList (7030 items)\n",
       "x: TextList\n",
       "xxbos xxmaj tesla xxmaj cleared xxmaj in xxmaj fatal xxmaj xxunk xxmaj crash xxmaj investigation,xxbos xxmaj now xxmaj you xxmaj can xxmaj make xxmaj driving xxmaj more xxmaj fun xxmaj with xxmaj the xxmaj new xxmaj app xxunk,xxbos xxmaj do xxmaj you xxmaj know xxmaj what xxmaj happened xxmaj in xxmaj tech xxmaj at xxmaj the xxmaj end xxmaj of xxmaj november ?,xxbos xxup ndmc xxunk central xxmaj delhi hotel for price 15 times higher,xxbos xxup usa vs xxmaj portugal : xxmaj this xxmaj is xxmaj what xxmaj it xxmaj looks xxmaj like xxmaj to xxmaj see 300 xxmaj million xxmaj hearts xxmaj break in xxmaj one xxmaj second\n",
       "y: CategoryList\n",
       "clickbait,clickbait,clickbait,news,clickbait\n",
       "Path: .;\n",
       "\n",
       "Valid: LabelList (1758 items)\n",
       "x: TextList\n",
       "xxbos xxup eu citizens in the xxup uk : what did you make of xxmaj may 's xxmaj brexit speech ?,xxbos xxmaj chinese xxmaj state xxmaj media xxmaj keeps xxunk xxmaj donald xxmaj trump xxmaj on xxmaj twitter xxmaj and xxmaj it 's xxmaj getting xxmaj xxunk,xxbos xxmaj as xxmaj kim xxmaj jong - xxmaj un threatens to go to war , xxmaj south xxmaj korea remains on top alert,xxbos xxmaj japan enhances militarys role as contentious legislation passed,xxbos xxmaj scottish housing benefit reforms to offer tenants greater xxunk\n",
       "y: CategoryList\n",
       "news,clickbait,news,news,news\n",
       "Path: .;\n",
       "\n",
       "Test: LabelList (2929 items)\n",
       "x: TextList\n",
       "xxbos 26 xxmaj long - xxmaj xxunk xxmaj xxunk xxmaj who xxmaj will xxmaj xxunk xxmaj you xxmaj with xxmaj their xxmaj xxunk xxmaj locks,xxbos 25 xxmaj amazing xxmaj xxunk xxmaj spots xxmaj you xxmaj have xxmaj to xxmaj check xxmaj out,xxbos xxup us : xxmaj one dead , multiple injured in xxmaj san xxmaj antonio shopping mall shooting,xxbos 8 xxmaj fun xxmaj in xxmaj the xxmaj sun xxmaj activities , xxmaj unless , xxmaj god xxmaj xxunk , xxmaj you xxmaj did nt xxmaj xxunk xxmaj the xxmaj xxunk,xxbos xxmaj england opener xxmaj alex xxmaj hales to return home with hand injury\n",
       "y: EmptyLabelList\n",
       ",,,,\n",
       "Path: ., model=SequentialRNN(\n",
       "  (0): MultiBatchEncoder(\n",
       "    (module): AWD_LSTM(\n",
       "      (encoder): Embedding(6488, 400, padding_idx=1)\n",
       "      (encoder_dp): EmbeddingDropout(\n",
       "        (emb): Embedding(6488, 400, padding_idx=1)\n",
       "      )\n",
       "      (rnns): ModuleList(\n",
       "        (0): WeightDropout(\n",
       "          (module): LSTM(400, 1152, batch_first=True)\n",
       "        )\n",
       "        (1): WeightDropout(\n",
       "          (module): LSTM(1152, 1152, batch_first=True)\n",
       "        )\n",
       "        (2): WeightDropout(\n",
       "          (module): LSTM(1152, 400, batch_first=True)\n",
       "        )\n",
       "      )\n",
       "      (input_dp): RNNDropout()\n",
       "      (hidden_dps): ModuleList(\n",
       "        (0): RNNDropout()\n",
       "        (1): RNNDropout()\n",
       "        (2): RNNDropout()\n",
       "      )\n",
       "    )\n",
       "  )\n",
       "  (1): PoolingLinearClassifier(\n",
       "    (layers): Sequential(\n",
       "      (0): BatchNorm1d(1200, eps=1e-05, momentum=0.1, affine=True, track_running_stats=True)\n",
       "      (1): Dropout(p=0.12)\n",
       "      (2): Linear(in_features=1200, out_features=50, bias=True)\n",
       "      (3): ReLU(inplace)\n",
       "      (4): BatchNorm1d(50, eps=1e-05, momentum=0.1, affine=True, track_running_stats=True)\n",
       "      (5): Dropout(p=0.1)\n",
       "      (6): Linear(in_features=50, out_features=2, bias=True)\n",
       "    )\n",
       "  )\n",
       "), opt_func=functools.partial(<class 'torch.optim.adam.Adam'>, betas=(0.9, 0.99)), loss_func=FlattenedLoss of CrossEntropyLoss(), metrics=[<function accuracy at 0x0000013864AB0D08>], true_wd=True, bn_wd=True, wd=0.01, train_bn=True, path=WindowsPath('.'), model_dir='models', callback_fns=[functools.partial(<class 'fastai.basic_train.Recorder'>, add_time=True, silent=False)], callbacks=[RNNTrainer\n",
       "learn: ...\n",
       "alpha: 2.0\n",
       "beta: 1.0], layer_groups=[Sequential(\n",
       "  (0): Embedding(6488, 400, padding_idx=1)\n",
       "  (1): EmbeddingDropout(\n",
       "    (emb): Embedding(6488, 400, padding_idx=1)\n",
       "  )\n",
       "), Sequential(\n",
       "  (0): WeightDropout(\n",
       "    (module): LSTM(400, 1152, batch_first=True)\n",
       "  )\n",
       "  (1): RNNDropout()\n",
       "), Sequential(\n",
       "  (0): WeightDropout(\n",
       "    (module): LSTM(1152, 1152, batch_first=True)\n",
       "  )\n",
       "  (1): RNNDropout()\n",
       "), Sequential(\n",
       "  (0): WeightDropout(\n",
       "    (module): LSTM(1152, 400, batch_first=True)\n",
       "  )\n",
       "  (1): RNNDropout()\n",
       "), Sequential(\n",
       "  (0): PoolingLinearClassifier(\n",
       "    (layers): Sequential(\n",
       "      (0): BatchNorm1d(1200, eps=1e-05, momentum=0.1, affine=True, track_running_stats=True)\n",
       "      (1): Dropout(p=0.12)\n",
       "      (2): Linear(in_features=1200, out_features=50, bias=True)\n",
       "      (3): ReLU(inplace)\n",
       "      (4): BatchNorm1d(50, eps=1e-05, momentum=0.1, affine=True, track_running_stats=True)\n",
       "      (5): Dropout(p=0.1)\n",
       "      (6): Linear(in_features=50, out_features=2, bias=True)\n",
       "    )\n",
       "  )\n",
       ")], add_time=True, silent=False, cb_fns_registered=False)"
      ]
     },
     "execution_count": 224,
     "metadata": {},
     "output_type": "execute_result"
    }
   ],
   "source": [
    "learn_clas = text_classifier_learner(data_clas, drop_mult=0.3, arch=AWD_LSTM)\n",
    "learn_clas.load_encoder('clickbait_news_enc')"
   ]
  },
  {
   "cell_type": "code",
   "execution_count": 225,
   "metadata": {
    "scrolled": false
   },
   "outputs": [
    {
     "data": {
      "text/html": [],
      "text/plain": [
       "<IPython.core.display.HTML object>"
      ]
     },
     "metadata": {},
     "output_type": "display_data"
    },
    {
     "name": "stdout",
     "output_type": "stream",
     "text": [
      "LR Finder is complete, type {learner_name}.recorder.plot() to see the graph.\n"
     ]
    }
   ],
   "source": [
    "learn_clas.lr_find(start_lr=slice(10e-7, 10e-5), end_lr=slice(0.1, 10))"
   ]
  },
  {
   "cell_type": "code",
   "execution_count": 174,
   "metadata": {},
   "outputs": [],
   "source": [
    "# learn_clas.recorder.plot()"
   ]
  },
  {
   "cell_type": "code",
   "execution_count": 226,
   "metadata": {
    "scrolled": true
   },
   "outputs": [
    {
     "name": "stdout",
     "output_type": "stream",
     "text": [
      "Min numerical gradient: 3.16E-04\n",
      "Min loss divided by 10: 8.91E-04\n"
     ]
    },
    {
     "data": {
      "image/png": "[encoded data removed]",
      "text/plain": [
       "<Figure size 432x288 with 1 Axes>"
      ]
     },
     "metadata": {
      "needs_background": "light"
     },
     "output_type": "display_data"
    }
   ],
   "source": [
    "learn_clas.recorder.plot(skip_end=10, suggestion=True)"
   ]
  },
  {
   "cell_type": "code",
   "execution_count": 227,
   "metadata": {},
   "outputs": [
    {
     "data": {
      "text/plain": [
       "0.000316227766016838"
      ]
     },
     "execution_count": 227,
     "metadata": {},
     "output_type": "execute_result"
    }
   ],
   "source": [
    "best_clf_lr = learn_clas.recorder.min_grad_lr\n",
    "best_clf_lr"
   ]
  },
  {
   "cell_type": "code",
   "execution_count": 228,
   "metadata": {},
   "outputs": [
    {
     "data": {
      "text/html": [
       "<table border=\"1\" class=\"dataframe\">\n",
       "  <thead>\n",
       "    <tr style=\"text-align: right;\">\n",
       "      <th>text</th>\n",
       "      <th>target</th>\n",
       "      <th>prediction</th>\n",
       "    </tr>\n",
       "  </thead>\n",
       "  <tbody>\n",
       "    <tr>\n",
       "      <td>xxbos 7 xxmaj xxunk xxmaj that xxmaj will xxmaj get xxmaj you xxmaj through xxmaj the xxmaj day , xxmaj and , xxmaj we xxmaj like xxmaj to xxmaj think , xxmaj xxunk xxmaj xxunk xxmaj too xxmaj if xxmaj he xxmaj had xxmaj seen xxmaj them</td>\n",
       "      <td>clickbait</td>\n",
       "      <td>news</td>\n",
       "    </tr>\n",
       "    <tr>\n",
       "      <td>xxbos xxmaj people xxmaj are xxmaj making xxmaj music xxmaj videos xxmaj that xxmaj get xxmaj faster xxmaj every xxmaj time a xxmaj word xxmaj is xxmaj said xxmaj and xxmaj it 's xxmaj the xxmaj best xxmaj thing xxmaj ever</td>\n",
       "      <td>clickbait</td>\n",
       "      <td>news</td>\n",
       "    </tr>\n",
       "    <tr>\n",
       "      <td>xxbos 17 xxmaj words xxmaj that xxmaj toddlers xxmaj screw xxmaj up . xxmaj if xxmaj your xxmaj baby xxmaj says \" xxmaj xxunk , \" xxmaj he xxmaj may xxmaj just xxmaj want a xxmaj xxunk xxmaj snack .</td>\n",
       "      <td>clickbait</td>\n",
       "      <td>news</td>\n",
       "    </tr>\n",
       "    <tr>\n",
       "      <td>xxbos xxmaj the 15 xxmaj original xxmaj locations xxmaj of xxmaj popular xxmaj fast xxmaj food xxmaj xxunk . xxmaj wow , xxmaj these xxmaj look xxmaj way xxmaj different xxmaj than xxmaj what i 'm xxmaj used xxmaj to</td>\n",
       "      <td>clickbait</td>\n",
       "      <td>news</td>\n",
       "    </tr>\n",
       "    <tr>\n",
       "      <td>xxbos xxmaj inspiring : xxmaj for xxmaj every xxmaj blimp xxmaj it xxmaj sells , xxmaj this xxmaj blimp xxmaj company xxmaj is xxmaj giving xxmaj away a xxmaj free xxmaj blimp xxmaj to xxmaj an xxmaj xxunk xxmaj child</td>\n",
       "      <td>clickbait</td>\n",
       "      <td>news</td>\n",
       "    </tr>\n",
       "  </tbody>\n",
       "</table>"
      ],
      "text/plain": [
       "<IPython.core.display.HTML object>"
      ]
     },
     "metadata": {},
     "output_type": "display_data"
    }
   ],
   "source": [
    "learn_clas.show_results()"
   ]
  },
  {
   "cell_type": "code",
   "execution_count": 229,
   "metadata": {
    "scrolled": true
   },
   "outputs": [
    {
     "data": {
      "text/html": [
       "<table border=\"1\" class=\"dataframe\">\n",
       "  <thead>\n",
       "    <tr style=\"text-align: left;\">\n",
       "      <th>epoch</th>\n",
       "      <th>train_loss</th>\n",
       "      <th>valid_loss</th>\n",
       "      <th>accuracy</th>\n",
       "      <th>time</th>\n",
       "    </tr>\n",
       "  </thead>\n",
       "  <tbody>\n",
       "    <tr>\n",
       "      <td>0</td>\n",
       "      <td>0.360354</td>\n",
       "      <td>0.126329</td>\n",
       "      <td>0.994312</td>\n",
       "      <td>05:27</td>\n",
       "    </tr>\n",
       "  </tbody>\n",
       "</table>"
      ],
      "text/plain": [
       "<IPython.core.display.HTML object>"
      ]
     },
     "metadata": {},
     "output_type": "display_data"
    }
   ],
   "source": [
    "learn_clas.fit_one_cycle(1, best_clf_lr)"
   ]
  },
  {
   "cell_type": "code",
   "execution_count": 230,
   "metadata": {
    "scrolled": true
   },
   "outputs": [
    {
     "data": {
      "text/html": [
       "<table border=\"1\" class=\"dataframe\">\n",
       "  <thead>\n",
       "    <tr style=\"text-align: right;\">\n",
       "      <th>text</th>\n",
       "      <th>target</th>\n",
       "      <th>prediction</th>\n",
       "    </tr>\n",
       "  </thead>\n",
       "  <tbody>\n",
       "    <tr>\n",
       "      <td>xxbos 7 xxmaj xxunk xxmaj that xxmaj will xxmaj get xxmaj you xxmaj through xxmaj the xxmaj day , xxmaj and , xxmaj we xxmaj like xxmaj to xxmaj think , xxmaj xxunk xxmaj xxunk xxmaj too xxmaj if xxmaj he xxmaj had xxmaj seen xxmaj them</td>\n",
       "      <td>clickbait</td>\n",
       "      <td>clickbait</td>\n",
       "    </tr>\n",
       "    <tr>\n",
       "      <td>xxbos xxmaj people xxmaj are xxmaj making xxmaj music xxmaj videos xxmaj that xxmaj get xxmaj faster xxmaj every xxmaj time a xxmaj word xxmaj is xxmaj said xxmaj and xxmaj it 's xxmaj the xxmaj best xxmaj thing xxmaj ever</td>\n",
       "      <td>clickbait</td>\n",
       "      <td>clickbait</td>\n",
       "    </tr>\n",
       "    <tr>\n",
       "      <td>xxbos 17 xxmaj words xxmaj that xxmaj toddlers xxmaj screw xxmaj up . xxmaj if xxmaj your xxmaj baby xxmaj says \" xxmaj xxunk , \" xxmaj he xxmaj may xxmaj just xxmaj want a xxmaj xxunk xxmaj snack .</td>\n",
       "      <td>clickbait</td>\n",
       "      <td>clickbait</td>\n",
       "    </tr>\n",
       "    <tr>\n",
       "      <td>xxbos xxmaj the 15 xxmaj original xxmaj locations xxmaj of xxmaj popular xxmaj fast xxmaj food xxmaj xxunk . xxmaj wow , xxmaj these xxmaj look xxmaj way xxmaj different xxmaj than xxmaj what i 'm xxmaj used xxmaj to</td>\n",
       "      <td>clickbait</td>\n",
       "      <td>clickbait</td>\n",
       "    </tr>\n",
       "    <tr>\n",
       "      <td>xxbos xxmaj inspiring : xxmaj for xxmaj every xxmaj blimp xxmaj it xxmaj sells , xxmaj this xxmaj blimp xxmaj company xxmaj is xxmaj giving xxmaj away a xxmaj free xxmaj blimp xxmaj to xxmaj an xxmaj xxunk xxmaj child</td>\n",
       "      <td>clickbait</td>\n",
       "      <td>clickbait</td>\n",
       "    </tr>\n",
       "  </tbody>\n",
       "</table>"
      ],
      "text/plain": [
       "<IPython.core.display.HTML object>"
      ]
     },
     "metadata": {},
     "output_type": "display_data"
    }
   ],
   "source": [
    "learn_clas.show_results()"
   ]
  },
  {
   "cell_type": "code",
   "execution_count": 231,
   "metadata": {},
   "outputs": [],
   "source": [
    "learn_clas.freeze_to(-2)"
   ]
  },
  {
   "cell_type": "code",
   "execution_count": 232,
   "metadata": {
    "scrolled": true
   },
   "outputs": [
    {
     "data": {
      "text/html": [
       "<table border=\"1\" class=\"dataframe\">\n",
       "  <thead>\n",
       "    <tr style=\"text-align: left;\">\n",
       "      <th>epoch</th>\n",
       "      <th>train_loss</th>\n",
       "      <th>valid_loss</th>\n",
       "      <th>accuracy</th>\n",
       "      <th>time</th>\n",
       "    </tr>\n",
       "  </thead>\n",
       "  <tbody>\n",
       "    <tr>\n",
       "      <td>0</td>\n",
       "      <td>0.256093</td>\n",
       "      <td>0.052541</td>\n",
       "      <td>0.996018</td>\n",
       "      <td>07:03</td>\n",
       "    </tr>\n",
       "  </tbody>\n",
       "</table>"
      ],
      "text/plain": [
       "<IPython.core.display.HTML object>"
      ]
     },
     "metadata": {},
     "output_type": "display_data"
    }
   ],
   "source": [
    "learn_clas.fit_one_cycle(1, best_clf_lr)"
   ]
  },
  {
   "cell_type": "code",
   "execution_count": 233,
   "metadata": {},
   "outputs": [
    {
     "data": {
      "text/html": [
       "<table border=\"1\" class=\"dataframe\">\n",
       "  <thead>\n",
       "    <tr style=\"text-align: right;\">\n",
       "      <th>text</th>\n",
       "      <th>target</th>\n",
       "      <th>prediction</th>\n",
       "    </tr>\n",
       "  </thead>\n",
       "  <tbody>\n",
       "    <tr>\n",
       "      <td>xxbos 7 xxmaj xxunk xxmaj that xxmaj will xxmaj get xxmaj you xxmaj through xxmaj the xxmaj day , xxmaj and , xxmaj we xxmaj like xxmaj to xxmaj think , xxmaj xxunk xxmaj xxunk xxmaj too xxmaj if xxmaj he xxmaj had xxmaj seen xxmaj them</td>\n",
       "      <td>clickbait</td>\n",
       "      <td>clickbait</td>\n",
       "    </tr>\n",
       "    <tr>\n",
       "      <td>xxbos xxmaj people xxmaj are xxmaj making xxmaj music xxmaj videos xxmaj that xxmaj get xxmaj faster xxmaj every xxmaj time a xxmaj word xxmaj is xxmaj said xxmaj and xxmaj it 's xxmaj the xxmaj best xxmaj thing xxmaj ever</td>\n",
       "      <td>clickbait</td>\n",
       "      <td>clickbait</td>\n",
       "    </tr>\n",
       "    <tr>\n",
       "      <td>xxbos 17 xxmaj words xxmaj that xxmaj toddlers xxmaj screw xxmaj up . xxmaj if xxmaj your xxmaj baby xxmaj says \" xxmaj xxunk , \" xxmaj he xxmaj may xxmaj just xxmaj want a xxmaj xxunk xxmaj snack .</td>\n",
       "      <td>clickbait</td>\n",
       "      <td>clickbait</td>\n",
       "    </tr>\n",
       "    <tr>\n",
       "      <td>xxbos xxmaj the 15 xxmaj original xxmaj locations xxmaj of xxmaj popular xxmaj fast xxmaj food xxmaj xxunk . xxmaj wow , xxmaj these xxmaj look xxmaj way xxmaj different xxmaj than xxmaj what i 'm xxmaj used xxmaj to</td>\n",
       "      <td>clickbait</td>\n",
       "      <td>clickbait</td>\n",
       "    </tr>\n",
       "    <tr>\n",
       "      <td>xxbos xxmaj inspiring : xxmaj for xxmaj every xxmaj blimp xxmaj it xxmaj sells , xxmaj this xxmaj blimp xxmaj company xxmaj is xxmaj giving xxmaj away a xxmaj free xxmaj blimp xxmaj to xxmaj an xxmaj xxunk xxmaj child</td>\n",
       "      <td>clickbait</td>\n",
       "      <td>clickbait</td>\n",
       "    </tr>\n",
       "  </tbody>\n",
       "</table>"
      ],
      "text/plain": [
       "<IPython.core.display.HTML object>"
      ]
     },
     "metadata": {},
     "output_type": "display_data"
    }
   ],
   "source": [
    "learn_clas.show_results()"
   ]
  },
  {
   "cell_type": "code",
   "execution_count": 234,
   "metadata": {},
   "outputs": [],
   "source": [
    "learn_clas.unfreeze()"
   ]
  },
  {
   "cell_type": "code",
   "execution_count": 235,
   "metadata": {},
   "outputs": [
    {
     "data": {
      "text/html": [
       "<table border=\"1\" class=\"dataframe\">\n",
       "  <thead>\n",
       "    <tr style=\"text-align: left;\">\n",
       "      <th>epoch</th>\n",
       "      <th>train_loss</th>\n",
       "      <th>valid_loss</th>\n",
       "      <th>accuracy</th>\n",
       "      <th>time</th>\n",
       "    </tr>\n",
       "  </thead>\n",
       "  <tbody>\n",
       "    <tr>\n",
       "      <td>0</td>\n",
       "      <td>0.269414</td>\n",
       "      <td>0.039922</td>\n",
       "      <td>0.996587</td>\n",
       "      <td>13:51</td>\n",
       "    </tr>\n",
       "  </tbody>\n",
       "</table>"
      ],
      "text/plain": [
       "<IPython.core.display.HTML object>"
      ]
     },
     "metadata": {},
     "output_type": "display_data"
    }
   ],
   "source": [
    "learn_clas.fit_one_cycle(1, best_clf_lr)"
   ]
  },
  {
   "cell_type": "code",
   "execution_count": 236,
   "metadata": {},
   "outputs": [
    {
     "data": {
      "text/html": [
       "<table border=\"1\" class=\"dataframe\">\n",
       "  <thead>\n",
       "    <tr style=\"text-align: right;\">\n",
       "      <th>text</th>\n",
       "      <th>target</th>\n",
       "      <th>prediction</th>\n",
       "    </tr>\n",
       "  </thead>\n",
       "  <tbody>\n",
       "    <tr>\n",
       "      <td>xxbos 7 xxmaj xxunk xxmaj that xxmaj will xxmaj get xxmaj you xxmaj through xxmaj the xxmaj day , xxmaj and , xxmaj we xxmaj like xxmaj to xxmaj think , xxmaj xxunk xxmaj xxunk xxmaj too xxmaj if xxmaj he xxmaj had xxmaj seen xxmaj them</td>\n",
       "      <td>clickbait</td>\n",
       "      <td>clickbait</td>\n",
       "    </tr>\n",
       "    <tr>\n",
       "      <td>xxbos xxmaj people xxmaj are xxmaj making xxmaj music xxmaj videos xxmaj that xxmaj get xxmaj faster xxmaj every xxmaj time a xxmaj word xxmaj is xxmaj said xxmaj and xxmaj it 's xxmaj the xxmaj best xxmaj thing xxmaj ever</td>\n",
       "      <td>clickbait</td>\n",
       "      <td>clickbait</td>\n",
       "    </tr>\n",
       "    <tr>\n",
       "      <td>xxbos 17 xxmaj words xxmaj that xxmaj toddlers xxmaj screw xxmaj up . xxmaj if xxmaj your xxmaj baby xxmaj says \" xxmaj xxunk , \" xxmaj he xxmaj may xxmaj just xxmaj want a xxmaj xxunk xxmaj snack .</td>\n",
       "      <td>clickbait</td>\n",
       "      <td>clickbait</td>\n",
       "    </tr>\n",
       "    <tr>\n",
       "      <td>xxbos xxmaj the 15 xxmaj original xxmaj locations xxmaj of xxmaj popular xxmaj fast xxmaj food xxmaj xxunk . xxmaj wow , xxmaj these xxmaj look xxmaj way xxmaj different xxmaj than xxmaj what i 'm xxmaj used xxmaj to</td>\n",
       "      <td>clickbait</td>\n",
       "      <td>clickbait</td>\n",
       "    </tr>\n",
       "    <tr>\n",
       "      <td>xxbos xxmaj inspiring : xxmaj for xxmaj every xxmaj blimp xxmaj it xxmaj sells , xxmaj this xxmaj blimp xxmaj company xxmaj is xxmaj giving xxmaj away a xxmaj free xxmaj blimp xxmaj to xxmaj an xxmaj xxunk xxmaj child</td>\n",
       "      <td>clickbait</td>\n",
       "      <td>clickbait</td>\n",
       "    </tr>\n",
       "  </tbody>\n",
       "</table>"
      ],
      "text/plain": [
       "<IPython.core.display.HTML object>"
      ]
     },
     "metadata": {},
     "output_type": "display_data"
    }
   ],
   "source": [
    "learn_clas.show_results()"
   ]
  },
  {
   "cell_type": "code",
   "execution_count": null,
   "metadata": {},
   "outputs": [],
   "source": []
  },
  {
   "cell_type": "code",
   "execution_count": 244,
   "metadata": {},
   "outputs": [],
   "source": [
    "# test1=pd.read_csv('test_with_label.csv')\n",
    "# data_clas.add_test(test1[\"text\"])"
   ]
  },
  {
   "cell_type": "code",
   "execution_count": 245,
   "metadata": {},
   "outputs": [],
   "source": [
    "test_preds, _ = learn_clas.get_preds(DatasetType.Test, \n",
    "                                     ordered=True)"
   ]
  },
  {
   "cell_type": "code",
   "execution_count": 256,
   "metadata": {},
   "outputs": [],
   "source": [
    "for i in range(len(test_preds)):\n",
    "    if(test_preds[i,0]>0.5):\n",
    "        test1['predicted_result'][i]=\"clickbait\"\n",
    "    else :\n",
    "        test1['predicted_result'][i]='news'"
   ]
  },
  {
   "cell_type": "code",
   "execution_count": 257,
   "metadata": {
    "scrolled": true
   },
   "outputs": [
    {
     "data": {
      "text/html": [
       "<div>\n",
       "<style scoped>\n",
       "    .dataframe tbody tr th:only-of-type {\n",
       "        vertical-align: middle;\n",
       "    }\n",
       "\n",
       "    .dataframe tbody tr th {\n",
       "        vertical-align: top;\n",
       "    }\n",
       "\n",
       "    .dataframe thead th {\n",
       "        text-align: right;\n",
       "    }\n",
       "</style>\n",
       "<table border=\"1\" class=\"dataframe\">\n",
       "  <thead>\n",
       "    <tr style=\"text-align: right;\">\n",
       "      <th></th>\n",
       "      <th>text</th>\n",
       "      <th>label</th>\n",
       "      <th>predicted_result</th>\n",
       "    </tr>\n",
       "  </thead>\n",
       "  <tbody>\n",
       "    <tr>\n",
       "      <th>0</th>\n",
       "      <td>17 Times Ali Wong Spoke Hilarious Truths About Adulthood</td>\n",
       "      <td>clickbait</td>\n",
       "      <td>clickbait</td>\n",
       "    </tr>\n",
       "    <tr>\n",
       "      <th>1</th>\n",
       "      <td>Ward Watch: Congested roads, encroachment on mangrove land  key problems in K West</td>\n",
       "      <td>news</td>\n",
       "      <td>news</td>\n",
       "    </tr>\n",
       "    <tr>\n",
       "      <th>2</th>\n",
       "      <td>Plan for world-class concert hall in City of London back on track</td>\n",
       "      <td>news</td>\n",
       "      <td>news</td>\n",
       "    </tr>\n",
       "    <tr>\n",
       "      <th>3</th>\n",
       "      <td>Photos Capture Panic And Chaos After Deadly Ft. Lauderdale Airport Shooting</td>\n",
       "      <td>clickbait</td>\n",
       "      <td>clickbait</td>\n",
       "    </tr>\n",
       "    <tr>\n",
       "      <th>4</th>\n",
       "      <td>Manchester United still making up for Louis vanGaals expensive lost time | Paul Wilson</td>\n",
       "      <td>news</td>\n",
       "      <td>news</td>\n",
       "    </tr>\n",
       "    <tr>\n",
       "      <th>5</th>\n",
       "      <td>7 Tailgating Superstitions Proven To Help Your Team Win</td>\n",
       "      <td>clickbait</td>\n",
       "      <td>clickbait</td>\n",
       "    </tr>\n",
       "    <tr>\n",
       "      <th>6</th>\n",
       "      <td>Man arrested from Kanpur for murder in Navi Mumbai mosque</td>\n",
       "      <td>news</td>\n",
       "      <td>news</td>\n",
       "    </tr>\n",
       "    <tr>\n",
       "      <th>7</th>\n",
       "      <td>New Years eve: Over 450 arrested in Kolkata</td>\n",
       "      <td>news</td>\n",
       "      <td>news</td>\n",
       "    </tr>\n",
       "    <tr>\n",
       "      <th>8</th>\n",
       "      <td>8 Kittens That God Forbid Could Be Used To Prop Up A Wobbly Table</td>\n",
       "      <td>clickbait</td>\n",
       "      <td>clickbait</td>\n",
       "    </tr>\n",
       "    <tr>\n",
       "      <th>9</th>\n",
       "      <td>Coalition 'cherry picking' data to support cashless welfare card trial</td>\n",
       "      <td>news</td>\n",
       "      <td>news</td>\n",
       "    </tr>\n",
       "    <tr>\n",
       "      <th>10</th>\n",
       "      <td>Busted! A Coworker Who Never Dresses Up Thought He Could Wear Nice Clothes And Not Have Everyone</td>\n",
       "      <td>clickbait</td>\n",
       "      <td>clickbait</td>\n",
       "    </tr>\n",
       "    <tr>\n",
       "      <th>11</th>\n",
       "      <td>21 Signs You're Too Old For This Sh*t</td>\n",
       "      <td>clickbait</td>\n",
       "      <td>clickbait</td>\n",
       "    </tr>\n",
       "    <tr>\n",
       "      <th>12</th>\n",
       "      <td>Bernie Sanders Is Demanding Trump Fire \"Racist\" Steve Bannon</td>\n",
       "      <td>clickbait</td>\n",
       "      <td>clickbait</td>\n",
       "    </tr>\n",
       "    <tr>\n",
       "      <th>13</th>\n",
       "      <td>Meet Shane: The Single Greatest Walmart Employee Of All Time. I Died Laughing At #11</td>\n",
       "      <td>clickbait</td>\n",
       "      <td>clickbait</td>\n",
       "    </tr>\n",
       "    <tr>\n",
       "      <th>14</th>\n",
       "      <td>12 Stars Over 30 We Fell In Love With In 2014</td>\n",
       "      <td>clickbait</td>\n",
       "      <td>clickbait</td>\n",
       "    </tr>\n",
       "    <tr>\n",
       "      <th>15</th>\n",
       "      <td>Case against South Korean MD for manhandling Chennai employee</td>\n",
       "      <td>news</td>\n",
       "      <td>news</td>\n",
       "    </tr>\n",
       "    <tr>\n",
       "      <th>16</th>\n",
       "      <td>23 Photos Of Animals And Their Parents That Will Melt Your Heart. The Otters Are TOO MUCH</td>\n",
       "      <td>clickbait</td>\n",
       "      <td>clickbait</td>\n",
       "    </tr>\n",
       "    <tr>\n",
       "      <th>17</th>\n",
       "      <td>'I do solemnly swear': how will Trump uphold the constitution when hes a threat to it? | Richard Ackland</td>\n",
       "      <td>news</td>\n",
       "      <td>news</td>\n",
       "    </tr>\n",
       "    <tr>\n",
       "      <th>18</th>\n",
       "      <td>BuzzFeed publishes unsubstantiated Trump report, raising ethics questions</td>\n",
       "      <td>news</td>\n",
       "      <td>news</td>\n",
       "    </tr>\n",
       "    <tr>\n",
       "      <th>19</th>\n",
       "      <td>Talking Horses: Saturdays best bets for Kempton and Warwick | Chris Cook</td>\n",
       "      <td>news</td>\n",
       "      <td>news</td>\n",
       "    </tr>\n",
       "    <tr>\n",
       "      <th>20</th>\n",
       "      <td>Uber cab rape case: Court records statements of two cops</td>\n",
       "      <td>news</td>\n",
       "      <td>news</td>\n",
       "    </tr>\n",
       "    <tr>\n",
       "      <th>21</th>\n",
       "      <td>This Awesome Piece Of Furniture Will Make Your House The Favorite Among Your Friends</td>\n",
       "      <td>clickbait</td>\n",
       "      <td>clickbait</td>\n",
       "    </tr>\n",
       "    <tr>\n",
       "      <th>22</th>\n",
       "      <td>Priyanka Gandhi credited with clinching SP alliance - Times of India</td>\n",
       "      <td>clickbait</td>\n",
       "      <td>news</td>\n",
       "    </tr>\n",
       "    <tr>\n",
       "      <th>23</th>\n",
       "      <td>How airlines can fly around new carbon rules</td>\n",
       "      <td>news</td>\n",
       "      <td>news</td>\n",
       "    </tr>\n",
       "    <tr>\n",
       "      <th>24</th>\n",
       "      <td>Two families in mourning</td>\n",
       "      <td>news</td>\n",
       "      <td>news</td>\n",
       "    </tr>\n",
       "    <tr>\n",
       "      <th>25</th>\n",
       "      <td>23 Awkward Family Photos Only White People Would Take. This Is Painful.</td>\n",
       "      <td>clickbait</td>\n",
       "      <td>clickbait</td>\n",
       "    </tr>\n",
       "    <tr>\n",
       "      <th>26</th>\n",
       "      <td>Its time we gave tea farmers a break</td>\n",
       "      <td>news</td>\n",
       "      <td>news</td>\n",
       "    </tr>\n",
       "    <tr>\n",
       "      <th>27</th>\n",
       "      <td>A TV Channel Showed How Women Can Hide Bruises From Domestic Violence</td>\n",
       "      <td>clickbait</td>\n",
       "      <td>clickbait</td>\n",
       "    </tr>\n",
       "    <tr>\n",
       "      <th>28</th>\n",
       "      <td>These Frozen Flowers Look Like Something Out Of A Dream</td>\n",
       "      <td>clickbait</td>\n",
       "      <td>clickbait</td>\n",
       "    </tr>\n",
       "    <tr>\n",
       "      <th>29</th>\n",
       "      <td>Scott Pruitt confirmation hearing for Environmental Protection Agency: the key points</td>\n",
       "      <td>news</td>\n",
       "      <td>news</td>\n",
       "    </tr>\n",
       "    <tr>\n",
       "      <th>30</th>\n",
       "      <td>Zaha Hadid leaves 67m fortune, architect's will reveals</td>\n",
       "      <td>news</td>\n",
       "      <td>news</td>\n",
       "    </tr>\n",
       "    <tr>\n",
       "      <th>31</th>\n",
       "      <td>27 People On Tinder Who Absolutely Deserve A Swipe Right</td>\n",
       "      <td>clickbait</td>\n",
       "      <td>clickbait</td>\n",
       "    </tr>\n",
       "    <tr>\n",
       "      <th>32</th>\n",
       "      <td>7 Sports That Are More Popular Internationally Than American Football</td>\n",
       "      <td>clickbait</td>\n",
       "      <td>clickbait</td>\n",
       "    </tr>\n",
       "    <tr>\n",
       "      <th>33</th>\n",
       "      <td>Its Time To Talk To God! We Count Down The 7 Hottest Prayers This Holiday Season</td>\n",
       "      <td>clickbait</td>\n",
       "      <td>clickbait</td>\n",
       "    </tr>\n",
       "    <tr>\n",
       "      <th>34</th>\n",
       "      <td>OMG: This Creative Boyfriend Proposed To His Girlfriend Without An Elaborate Viral Video</td>\n",
       "      <td>clickbait</td>\n",
       "      <td>clickbait</td>\n",
       "    </tr>\n",
       "    <tr>\n",
       "      <th>35</th>\n",
       "      <td>Mumbai: Online test at colleges for learners driving licence</td>\n",
       "      <td>news</td>\n",
       "      <td>news</td>\n",
       "    </tr>\n",
       "    <tr>\n",
       "      <th>36</th>\n",
       "      <td>Families seek justice for Scottish soldiers killed in IRA 'honey trap'</td>\n",
       "      <td>news</td>\n",
       "      <td>news</td>\n",
       "    </tr>\n",
       "    <tr>\n",
       "      <th>37</th>\n",
       "      <td>Photos show Japanese whalers killing minke in sanctuary, says Sea Shepherd</td>\n",
       "      <td>news</td>\n",
       "      <td>news</td>\n",
       "    </tr>\n",
       "    <tr>\n",
       "      <th>38</th>\n",
       "      <td>Two Billionaires Among Trump Picks For Treasury And Commerce Roles</td>\n",
       "      <td>clickbait</td>\n",
       "      <td>clickbait</td>\n",
       "    </tr>\n",
       "    <tr>\n",
       "      <th>39</th>\n",
       "      <td>Maharashtra: Chembur man caught with 10-kg mephedrone is a medicine dealer</td>\n",
       "      <td>news</td>\n",
       "      <td>news</td>\n",
       "    </tr>\n",
       "    <tr>\n",
       "      <th>40</th>\n",
       "      <td>17 Awesome Life Hacks You Can Do With Everyday Objects</td>\n",
       "      <td>clickbait</td>\n",
       "      <td>clickbait</td>\n",
       "    </tr>\n",
       "    <tr>\n",
       "      <th>41</th>\n",
       "      <td>La La Land: the ending, the songs, the jazzsplaining discuss with spoilers</td>\n",
       "      <td>news</td>\n",
       "      <td>news</td>\n",
       "    </tr>\n",
       "    <tr>\n",
       "      <th>42</th>\n",
       "      <td>15 Youtube Comments That Are Even Better Than Their Videos</td>\n",
       "      <td>clickbait</td>\n",
       "      <td>clickbait</td>\n",
       "    </tr>\n",
       "    <tr>\n",
       "      <th>43</th>\n",
       "      <td>Aljaz Bedene loses to Victor Estrella Burgos in Australian Open first round</td>\n",
       "      <td>news</td>\n",
       "      <td>news</td>\n",
       "    </tr>\n",
       "    <tr>\n",
       "      <th>44</th>\n",
       "      <td>BMC polls: Uddhav Thackeray declines to comment on alliance with BJP</td>\n",
       "      <td>news</td>\n",
       "      <td>news</td>\n",
       "    </tr>\n",
       "    <tr>\n",
       "      <th>45</th>\n",
       "      <td>The article that changed my view   of what journalism can achieve</td>\n",
       "      <td>news</td>\n",
       "      <td>news</td>\n",
       "    </tr>\n",
       "    <tr>\n",
       "      <th>46</th>\n",
       "      <td>13 Dogs Having The Best Day Ever. The Dog in the Bath Is Hilarious!</td>\n",
       "      <td>clickbait</td>\n",
       "      <td>clickbait</td>\n",
       "    </tr>\n",
       "    <tr>\n",
       "      <th>47</th>\n",
       "      <td>CM Chandy plays down Hummer horror as unfortunate death</td>\n",
       "      <td>news</td>\n",
       "      <td>news</td>\n",
       "    </tr>\n",
       "    <tr>\n",
       "      <th>48</th>\n",
       "      <td>Missouri Execution Drug Purchases Revealed</td>\n",
       "      <td>clickbait</td>\n",
       "      <td>clickbait</td>\n",
       "    </tr>\n",
       "    <tr>\n",
       "      <th>49</th>\n",
       "      <td>The Coffee At Luke's Diner On \"Gilmore Girls\" Is Actually Tim Hortons</td>\n",
       "      <td>clickbait</td>\n",
       "      <td>clickbait</td>\n",
       "    </tr>\n",
       "  </tbody>\n",
       "</table>\n",
       "</div>"
      ],
      "text/plain": [
       "                                                                                                        text  \\\n",
       "0                                                   17 Times Ali Wong Spoke Hilarious Truths About Adulthood   \n",
       "1                         Ward Watch: Congested roads, encroachment on mangrove land  key problems in K West   \n",
       "2                                          Plan for world-class concert hall in City of London back on track   \n",
       "3                                Photos Capture Panic And Chaos After Deadly Ft. Lauderdale Airport Shooting   \n",
       "4                     Manchester United still making up for Louis vanGaals expensive lost time | Paul Wilson   \n",
       "5                                                    7 Tailgating Superstitions Proven To Help Your Team Win   \n",
       "6                                                  Man arrested from Kanpur for murder in Navi Mumbai mosque   \n",
       "7                                                                New Years eve: Over 450 arrested in Kolkata   \n",
       "8                                          8 Kittens That God Forbid Could Be Used To Prop Up A Wobbly Table   \n",
       "9                                     Coalition 'cherry picking' data to support cashless welfare card trial   \n",
       "10          Busted! A Coworker Who Never Dresses Up Thought He Could Wear Nice Clothes And Not Have Everyone   \n",
       "11                                                                     21 Signs You're Too Old For This Sh*t   \n",
       "12                                              Bernie Sanders Is Demanding Trump Fire \"Racist\" Steve Bannon   \n",
       "13                      Meet Shane: The Single Greatest Walmart Employee Of All Time. I Died Laughing At #11   \n",
       "14                                                             12 Stars Over 30 We Fell In Love With In 2014   \n",
       "15                                             Case against South Korean MD for manhandling Chennai employee   \n",
       "16                 23 Photos Of Animals And Their Parents That Will Melt Your Heart. The Otters Are TOO MUCH   \n",
       "17  'I do solemnly swear': how will Trump uphold the constitution when hes a threat to it? | Richard Ackland   \n",
       "18                                 BuzzFeed publishes unsubstantiated Trump report, raising ethics questions   \n",
       "19                                  Talking Horses: Saturdays best bets for Kempton and Warwick | Chris Cook   \n",
       "20                                                  Uber cab rape case: Court records statements of two cops   \n",
       "21                      This Awesome Piece Of Furniture Will Make Your House The Favorite Among Your Friends   \n",
       "22                                      Priyanka Gandhi credited with clinching SP alliance - Times of India   \n",
       "23                                                              How airlines can fly around new carbon rules   \n",
       "24                                                                                  Two families in mourning   \n",
       "25                                   23 Awkward Family Photos Only White People Would Take. This Is Painful.   \n",
       "26                                                                      Its time we gave tea farmers a break   \n",
       "27                                     A TV Channel Showed How Women Can Hide Bruises From Domestic Violence   \n",
       "28                                                   These Frozen Flowers Look Like Something Out Of A Dream   \n",
       "29                     Scott Pruitt confirmation hearing for Environmental Protection Agency: the key points   \n",
       "30                                                   Zaha Hadid leaves 67m fortune, architect's will reveals   \n",
       "31                                                  27 People On Tinder Who Absolutely Deserve A Swipe Right   \n",
       "32                                     7 Sports That Are More Popular Internationally Than American Football   \n",
       "33                          Its Time To Talk To God! We Count Down The 7 Hottest Prayers This Holiday Season   \n",
       "34                  OMG: This Creative Boyfriend Proposed To His Girlfriend Without An Elaborate Viral Video   \n",
       "35                                              Mumbai: Online test at colleges for learners driving licence   \n",
       "36                                    Families seek justice for Scottish soldiers killed in IRA 'honey trap'   \n",
       "37                                Photos show Japanese whalers killing minke in sanctuary, says Sea Shepherd   \n",
       "38                                        Two Billionaires Among Trump Picks For Treasury And Commerce Roles   \n",
       "39                                Maharashtra: Chembur man caught with 10-kg mephedrone is a medicine dealer   \n",
       "40                                                    17 Awesome Life Hacks You Can Do With Everyday Objects   \n",
       "41                                La La Land: the ending, the songs, the jazzsplaining discuss with spoilers   \n",
       "42                                                15 Youtube Comments That Are Even Better Than Their Videos   \n",
       "43                               Aljaz Bedene loses to Victor Estrella Burgos in Australian Open first round   \n",
       "44                                      BMC polls: Uddhav Thackeray declines to comment on alliance with BJP   \n",
       "45                                         The article that changed my view   of what journalism can achieve   \n",
       "46                                       13 Dogs Having The Best Day Ever. The Dog in the Bath Is Hilarious!   \n",
       "47                                                   CM Chandy plays down Hummer horror as unfortunate death   \n",
       "48                                                                Missouri Execution Drug Purchases Revealed   \n",
       "49                                     The Coffee At Luke's Diner On \"Gilmore Girls\" Is Actually Tim Hortons   \n",
       "\n",
       "        label predicted_result  \n",
       "0   clickbait        clickbait  \n",
       "1        news             news  \n",
       "2        news             news  \n",
       "3   clickbait        clickbait  \n",
       "4        news             news  \n",
       "5   clickbait        clickbait  \n",
       "6        news             news  \n",
       "7        news             news  \n",
       "8   clickbait        clickbait  \n",
       "9        news             news  \n",
       "10  clickbait        clickbait  \n",
       "11  clickbait        clickbait  \n",
       "12  clickbait        clickbait  \n",
       "13  clickbait        clickbait  \n",
       "14  clickbait        clickbait  \n",
       "15       news             news  \n",
       "16  clickbait        clickbait  \n",
       "17       news             news  \n",
       "18       news             news  \n",
       "19       news             news  \n",
       "20       news             news  \n",
       "21  clickbait        clickbait  \n",
       "22  clickbait             news  \n",
       "23       news             news  \n",
       "24       news             news  \n",
       "25  clickbait        clickbait  \n",
       "26       news             news  \n",
       "27  clickbait        clickbait  \n",
       "28  clickbait        clickbait  \n",
       "29       news             news  \n",
       "30       news             news  \n",
       "31  clickbait        clickbait  \n",
       "32  clickbait        clickbait  \n",
       "33  clickbait        clickbait  \n",
       "34  clickbait        clickbait  \n",
       "35       news             news  \n",
       "36       news             news  \n",
       "37       news             news  \n",
       "38  clickbait        clickbait  \n",
       "39       news             news  \n",
       "40  clickbait        clickbait  \n",
       "41       news             news  \n",
       "42  clickbait        clickbait  \n",
       "43       news             news  \n",
       "44       news             news  \n",
       "45       news             news  \n",
       "46  clickbait        clickbait  \n",
       "47       news             news  \n",
       "48  clickbait        clickbait  \n",
       "49  clickbait        clickbait  "
      ]
     },
     "execution_count": 257,
     "metadata": {},
     "output_type": "execute_result"
    }
   ],
   "source": [
    "test1.head(50)"
   ]
  },
  {
   "cell_type": "code",
   "execution_count": 258,
   "metadata": {},
   "outputs": [
    {
     "data": {
      "text/plain": [
       "0.9931717309662002"
      ]
     },
     "execution_count": 258,
     "metadata": {},
     "output_type": "execute_result"
    }
   ],
   "source": [
    "1/len(test1)*(test1['predicted_result']==test1['label']).sum()"
   ]
  },
  {
   "cell_type": "code",
   "execution_count": null,
   "metadata": {},
   "outputs": [],
   "source": []
  },
  {
   "cell_type": "code",
   "execution_count": 259,
   "metadata": {},
   "outputs": [],
   "source": [
    "interp = ClassificationInterpretation.from_learner(learn_clas)"
   ]
  },
  {
   "cell_type": "code",
   "execution_count": 260,
   "metadata": {},
   "outputs": [
    {
     "data": {
      "image/png": "[encoded data removed]",
      "text/plain": [
       "<Figure size 432x288 with 1 Axes>"
      ]
     },
     "metadata": {
      "needs_background": "light"
     },
     "output_type": "display_data"
    }
   ],
   "source": [
    "interp.plot_confusion_matrix()"
   ]
  },
  {
   "cell_type": "code",
   "execution_count": 264,
   "metadata": {},
   "outputs": [],
   "source": [
    "test1.to_csv('label_and_predicted_result.csv')"
   ]
  },
  {
   "cell_type": "code",
   "execution_count": 265,
   "metadata": {},
   "outputs": [],
   "source": [
    "learn_clas.save('final_model.pkl')"
   ]
  },
  {
   "cell_type": "code",
   "execution_count": 266,
   "metadata": {},
   "outputs": [],
   "source": [
    "def save_obj(obj, name):\n",
    "    with open(name + '.pkl', 'wb') as f:\n",
    "        pickle.dump(obj, f, pickle.HIGHEST_PROTOCOL)"
   ]
  },
  {
   "cell_type": "code",
   "execution_count": null,
   "metadata": {},
   "outputs": [],
   "source": []
  }
 ],
 "metadata": {
  "kernelspec": {
   "display_name": "Python 3",
   "language": "python",
   "name": "python3"
  },
  "language_info": {
   "codemirror_mode": {
    "name": "ipython",
    "version": 3
   },
   "file_extension": ".py",
   "mimetype": "text/x-python",
   "name": "python",
   "nbconvert_exporter": "python",
   "pygments_lexer": "ipython3",
   "version": "3.7.3"
  }
 },
 "nbformat": 4,
 "nbformat_minor": 2
}
